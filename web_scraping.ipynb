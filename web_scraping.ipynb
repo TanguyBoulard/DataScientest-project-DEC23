{
 "cells": [
  {
   "cell_type": "code",
   "execution_count": null,
   "metadata": {},
   "outputs": [],
   "source": [
    "from bs4 import BeautifulSoup as bs\n",
    "import pandas as pd\n",
    "import requests\n",
    "import re\n",
    "from datetime import datetime"
   ]
  },
  {
   "cell_type": "markdown",
   "metadata": {},
   "source": [
    "Defining a function to extract location and date information"
   ]
  },
  {
   "cell_type": "code",
   "execution_count": null,
   "metadata": {},
   "outputs": [],
   "source": [
    "def extract_simplified_information(html: str):\n",
    "    \"\"\"\n",
    "    Extracts the location and the date from the page title.\n",
    "    \n",
    "    Args:\n",
    "        html (str): HTML code containing the information.\n",
    "    \n",
    "    Returns:\n",
    "        tuple: Location and date as a tuple, or (None, None) if not found.\n",
    "    \"\"\"\n",
    "    match = re.search(r'<h1>(?P<location>.+?)(?:<br/?>|,)\\s*(?P<date>\\w+ \\d{4})', html, re.IGNORECASE)\n",
    "    if match:\n",
    "        location = match.group('location').split(',')[0].strip()\n",
    "        date = match.group('date').strip()\n",
    "        return location, date\n",
    "    else:\n",
    "        return None, None"
   ]
  },
  {
   "cell_type": "markdown",
   "metadata": {},
   "source": [
    "Defining the URL to scrape"
   ]
  },
  {
   "cell_type": "code",
   "execution_count": null,
   "metadata": {},
   "outputs": [],
   "source": [
    "# URL of the Australian weather data page\n",
    "locations = {'Canberra': '2801',\n",
    "             'Tuggeranong': '2802',\n",
    "             'Mount Ginini': '2804'}\n",
    "url = f\"https://reg.bom.gov.au/climate/dwo/IDCJDW{locations['Canberra']}.latest.shtml\""
   ]
  },
  {
   "cell_type": "markdown",
   "metadata": {},
   "source": [
    "Fetching the web page"
   ]
  },
  {
   "cell_type": "code",
   "execution_count": null,
   "metadata": {},
   "outputs": [],
   "source": [
    "# Make an HTTP request to the URL\n",
    "page_html = requests.get(url)\n",
    "\n",
    "# Parse the HTML content of the page using BeautifulSoup\n",
    "soup = bs(page_html.content, 'lxml')"
   ]
  },
  {
   "cell_type": "markdown",
   "metadata": {},
   "source": [
    "Extracting data from the web page"
   ]
  },
  {
   "cell_type": "code",
   "execution_count": null,
   "metadata": {},
   "outputs": [],
   "source": [
    "# Find the table in the HTML that contains the weather data\n",
    "table = soup.find('table', attrs={'class': 'data'})\n",
    "\n",
    "# Extract all rows from the table body\n",
    "rows = table.find('tbody').find_all('tr')"
   ]
  },
  {
   "cell_type": "markdown",
   "metadata": {},
   "source": [
    "Processing table headers and rows"
   ]
  },
  {
   "cell_type": "code",
   "execution_count": null,
   "metadata": {},
   "outputs": [],
   "source": [
    "# Extracting table headers (days of the month)\n",
    "days = [header.text for header in row.find_all('th') for row in rows]\n",
    "\n",
    "# Extracting weather data for each day\n",
    "data = []\n",
    "for row in rows:\n",
    "    day_data = [data.text if data.text != '\\xa0' else 'NA' for data in row.find_all('td')]\n",
    "    data.append(day_data)"
   ]
  },
  {
   "cell_type": "markdown",
   "metadata": {},
   "source": [
    "Extracting date information"
   ]
  },
  {
   "cell_type": "code",
   "execution_count": null,
   "metadata": {},
   "outputs": [],
   "source": [
    "# Extracting location and date from the page header\n",
    "header = soup.find('div', attrs={'class': 'content'}).find('h1')\n",
    "location, date = extract_simplified_information(str(header))"
   ]
  },
  {
   "cell_type": "markdown",
   "metadata": {},
   "source": [
    "Formatting date information"
   ]
  },
  {
   "cell_type": "code",
   "execution_count": null,
   "metadata": {},
   "outputs": [],
   "source": [
    "# Formatting the date information\n",
    "month_year_datetime = datetime.strptime(date, \"%B %Y\")\n",
    "formatted_dates = [month_year_datetime.replace(day=int(day)).strftime(\"%Y-%m-%d\") for day in days]"
   ]
  },
  {
   "cell_type": "markdown",
   "metadata": {},
   "source": [
    "Creating and displaying the DataFrame"
   ]
  },
  {
   "cell_type": "code",
   "execution_count": null,
   "metadata": {},
   "outputs": [],
   "source": [
    "# Define column names for the DataFrame\n",
    "columns = ['Day', 'MinTemp', 'MaxTemp', 'Rainfall', 'Evaporation', 'Sunshine', \n",
    "           'WindGustDir', 'WindGustSpeed', 'WindGustTime', \n",
    "           'Temp9am', 'Humidity9am', 'Cloud9am', 'WindDir9am', 'WindSpeed9am', 'Pressure9am', \n",
    "           'Temp3pm', 'Humidity3pm', 'Cloud3pm', 'WindDir3pm', 'WindSpeed3pm', 'Pressure3pm']\n",
    "\n",
    "# Create the DataFrame\n",
    "df = pd.DataFrame(data, columns=columns)\n",
    "\n",
    "# Drop unnecessary columns\n",
    "df.drop(['Day', 'WindGustTime'], axis=1, inplace=True)\n",
    "\n",
    "# Add formatted date and location to the DataFrame\n",
    "df['Date'] = formatted_dates\n",
    "df['Location'] = location\n",
    "\n",
    "# Display the DataFrame\n",
    "display(df)"
   ]
  }
 ],
 "metadata": {
  "kernelspec": {
   "display_name": ".venv",
   "language": "python",
   "name": "python3"
  },
  "language_info": {
   "codemirror_mode": {
    "name": "ipython",
    "version": 3
   },
   "file_extension": ".py",
   "mimetype": "text/x-python",
   "name": "python",
   "nbconvert_exporter": "python",
   "pygments_lexer": "ipython3",
   "version": "3.11.6"
  }
 },
 "nbformat": 4,
 "nbformat_minor": 2
}
