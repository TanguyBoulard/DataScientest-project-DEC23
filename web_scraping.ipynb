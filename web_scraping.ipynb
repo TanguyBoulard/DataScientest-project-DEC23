{
 "cells": [
  {
   "cell_type": "code",
   "execution_count": null,
   "metadata": {},
   "outputs": [],
   "source": [
    "from web_scrapping_on_multiples_pages import *\n",
    "import pandas as pd"
   ]
  },
  {
   "cell_type": "code",
   "execution_count": null,
   "metadata": {},
   "outputs": [],
   "source": [
    "dates_to_scrape = ['202301', '202302', '202303', '202304', '202305',\n",
    "                    '202306', '202307', '202308', '202309', '202310',\n",
    "                    '202311', '202312', '202401', '202402']\n",
    "locations_to_scrape = {'Canberra': '2801',\n",
    "                        'Tuggeranong': '2802',\n",
    "                        'Mount Ginini': '2804'}\n",
    "pages_to_scrape = generate_urls(dates_to_scrape,\n",
    "                                list(locations_to_scrape.values()))\n",
    "weather_df = aggregate_weather_data(pages_to_scrape)\n",
    "weather_df.to_csv('WeatherWebScrappedAUS.csv')"
   ]
  }
 ],
 "metadata": {
  "kernelspec": {
   "display_name": ".venv",
   "language": "python",
   "name": "python3"
  },
  "language_info": {
   "codemirror_mode": {
    "name": "ipython",
    "version": 3
   },
   "file_extension": ".py",
   "mimetype": "text/x-python",
   "name": "python",
   "nbconvert_exporter": "python",
   "pygments_lexer": "ipython3",
   "version": "3.11.6"
  }
 },
 "nbformat": 4,
 "nbformat_minor": 2
}
