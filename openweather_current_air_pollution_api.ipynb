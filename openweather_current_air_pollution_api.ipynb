{
 "cells": [
  {
   "cell_type": "code",
   "execution_count": 1,
   "metadata": {},
   "outputs": [],
   "source": [
    "from dotenv import load_dotenv\n",
    "import os\n",
    "\n",
    "import pandas as pd\n",
    "from openweather_api import *\n",
    "from mongodb_functools import MongoDBManager\n",
    "from postgresql_functools import PostgreSQLManager, AirPollution"
   ]
  },
  {
   "cell_type": "code",
   "execution_count": 2,
   "metadata": {},
   "outputs": [
    {
     "name": "stdout",
     "output_type": "stream",
     "text": [
      "2024-05-11 12:25:31,590 INFO sqlalchemy.engine.Engine select pg_catalog.version()\n",
      "2024-05-11 12:25:31,590 INFO sqlalchemy.engine.Engine [raw sql] {}\n",
      "2024-05-11 12:25:31,592 INFO sqlalchemy.engine.Engine select current_schema()\n",
      "2024-05-11 12:25:31,592 INFO sqlalchemy.engine.Engine [raw sql] {}\n",
      "2024-05-11 12:25:31,593 INFO sqlalchemy.engine.Engine show standard_conforming_strings\n",
      "2024-05-11 12:25:31,593 INFO sqlalchemy.engine.Engine [raw sql] {}\n",
      "2024-05-11 12:25:31,594 INFO sqlalchemy.engine.Engine BEGIN (implicit)\n",
      "2024-05-11 12:25:31,597 INFO sqlalchemy.engine.Engine SELECT pg_catalog.pg_class.relname \n",
      "FROM pg_catalog.pg_class JOIN pg_catalog.pg_namespace ON pg_catalog.pg_namespace.oid = pg_catalog.pg_class.relnamespace \n",
      "WHERE pg_catalog.pg_class.relname = %(table_name)s AND pg_catalog.pg_class.relkind = ANY (ARRAY[%(param_1)s, %(param_2)s, %(param_3)s, %(param_4)s, %(param_5)s]) AND pg_catalog.pg_table_is_visible(pg_catalog.pg_class.oid) AND pg_catalog.pg_namespace.nspname != %(nspname_1)s\n",
      "2024-05-11 12:25:31,597 INFO sqlalchemy.engine.Engine [generated in 0.00077s] {'table_name': 'OpenWeather', 'param_1': 'r', 'param_2': 'p', 'param_3': 'f', 'param_4': 'v', 'param_5': 'm', 'nspname_1': 'pg_catalog'}\n",
      "2024-05-11 12:25:31,602 INFO sqlalchemy.engine.Engine SELECT pg_catalog.pg_class.relname \n",
      "FROM pg_catalog.pg_class JOIN pg_catalog.pg_namespace ON pg_catalog.pg_namespace.oid = pg_catalog.pg_class.relnamespace \n",
      "WHERE pg_catalog.pg_class.relname = %(table_name)s AND pg_catalog.pg_class.relkind = ANY (ARRAY[%(param_1)s, %(param_2)s, %(param_3)s, %(param_4)s, %(param_5)s]) AND pg_catalog.pg_table_is_visible(pg_catalog.pg_class.oid) AND pg_catalog.pg_namespace.nspname != %(nspname_1)s\n",
      "2024-05-11 12:25:31,602 INFO sqlalchemy.engine.Engine [cached since 0.005347s ago] {'table_name': 'AirPollution', 'param_1': 'r', 'param_2': 'p', 'param_3': 'f', 'param_4': 'v', 'param_5': 'm', 'nspname_1': 'pg_catalog'}\n",
      "2024-05-11 12:25:31,603 INFO sqlalchemy.engine.Engine COMMIT\n"
     ]
    }
   ],
   "source": [
    "mongo_manager = MongoDBManager()\n",
    "postgre_manager = PostgreSQLManager()"
   ]
  },
  {
   "cell_type": "code",
   "execution_count": 3,
   "metadata": {},
   "outputs": [],
   "source": [
    "load_dotenv(override=True)\n",
    "API_key = os.getenv('OPEN_WEATHER_API_KEY')\n",
    "locations = ['Canberra']\n",
    "country_code = 'AU'\n",
    "limit = 5\n",
    "data = []\n",
    "\n",
    "for city_name in locations:\n",
    "    city_info = fetch_api_data(build_city_info_url(city_name, limit, API_key))\n",
    "    store_to_json(city_info, 'CityInfo.json')\n",
    "\n",
    "    latitudes, longitudes = extract_lat_lon(city_info, country_code)\n",
    "    air_pollution_info = fetch_pollution_info_for_coordinates(latitudes, longitudes, API_key)\n",
    "    store_to_json(air_pollution_info, 'AirPollutionInfo.json')\n",
    "\n",
    "    for i in range(len(air_pollution_info)):\n",
    "        data.append({\n",
    "            'Date': build_date_timestamp(air_pollution_info[i]['list'][0]['dt'], timezone=0, mode='date'),\n",
    "            'Location': city_name,\n",
    "            'AirQualityIndex': air_pollution_info[i]['list'][0]['main']['aqi'],\n",
    "            'COConcentration': air_pollution_info[i]['list'][0]['components']['co'],\n",
    "            'NOConcentration': air_pollution_info[i]['list'][0]['components']['no'],\n",
    "            'NO2Concentration': air_pollution_info[i]['list'][0]['components']['no2'],\n",
    "            'O3Concentration': air_pollution_info[i]['list'][0]['components']['o3'],\n",
    "            'SO2Concentration': air_pollution_info[i]['list'][0]['components']['so2'],\n",
    "            'PM25Concentration': air_pollution_info[i]['list'][0]['components']['pm2_5'],\n",
    "            'PM10Concentration': air_pollution_info[i]['list'][0]['components']['pm10'],\n",
    "            'NH3Concentration': air_pollution_info[i]['list'][0]['components']['nh3']\n",
    "            })\n",
    "\n",
    "air_pollution_df = pd.DataFrame(data)\n",
    "air_pollution_df.to_csv('WeatherAirPollutionAUS.csv', index=False)"
   ]
  },
  {
   "cell_type": "code",
   "execution_count": 4,
   "metadata": {},
   "outputs": [
    {
     "name": "stdout",
     "output_type": "stream",
     "text": [
      "Inserting document...\n",
      "Document inserted with ID: 663f479bb5d6c82ede21e7f8\n",
      "Finding document...\n",
      "Document found: {'_id': ObjectId('663f461d128e32b2616d9ac7'), 'coord': {'lon': 149.1013, 'lat': -35.2976}, 'list': [{'main': {'aqi': 1}, 'components': {'co': 208.62, 'no': 0, 'no2': 2.44, 'o3': 36.12, 'so2': 0.45, 'pm2_5': 0.5, 'pm10': 0.65, 'nh3': 0.19}, 'dt': 1715422749}]}\n"
     ]
    },
    {
     "data": {
      "text/plain": [
       "{'_id': ObjectId('663f461d128e32b2616d9ac7'),\n",
       " 'coord': {'lon': 149.1013, 'lat': -35.2976},\n",
       " 'list': [{'main': {'aqi': 1},\n",
       "   'components': {'co': 208.62,\n",
       "    'no': 0,\n",
       "    'no2': 2.44,\n",
       "    'o3': 36.12,\n",
       "    'so2': 0.45,\n",
       "    'pm2_5': 0.5,\n",
       "    'pm10': 0.65,\n",
       "    'nh3': 0.19},\n",
       "   'dt': 1715422749}]}"
      ]
     },
     "execution_count": 4,
     "metadata": {},
     "output_type": "execute_result"
    }
   ],
   "source": [
    "document = air_pollution_info[0]\n",
    "mongo_manager.insert_document('air_pollution', document, verbose=True)\n",
    "mongo_manager.find_document('air_pollution', {'coord': {\"lon\": 149.1013, \"lat\": -35.2976}}, verbose=True)"
   ]
  },
  {
   "cell_type": "code",
   "execution_count": 5,
   "metadata": {},
   "outputs": [
    {
     "name": "stdout",
     "output_type": "stream",
     "text": [
      "2024-05-11 12:25:31,907 INFO sqlalchemy.engine.Engine BEGIN (implicit)\n",
      "2024-05-11 12:25:31,909 INFO sqlalchemy.engine.Engine INSERT INTO \"AirPollution\" (\"Date\", \"Location\", \"AirQualityIndex\", \"COConcentration\", \"NOConcentration\", \"NO2Concentration\", \"O3Concentration\", \"SO2Concentration\", \"PM25Concentration\", \"PM10Concentration\", \"NH3Concentration\") VALUES (%(Date)s, %(Location)s, %(AirQualityIndex)s, %(COConcentration)s, %(NOConcentration)s, %(NO2Concentration)s, %(O3Concentration)s, %(SO2Concentration)s, %(PM25Concentration)s, %(PM10Concentration)s, %(NH3Concentration)s) RETURNING \"AirPollution\".id\n",
      "2024-05-11 12:25:31,910 INFO sqlalchemy.engine.Engine [generated in 0.00041s] {'Date': '2024-05-11', 'Location': 'Canberra', 'AirQualityIndex': 1, 'COConcentration': 208.62, 'NOConcentration': 0, 'NO2Concentration': 2.44, 'O3Concentration': 36.12, 'SO2Concentration': 0.45, 'PM25Concentration': 0.5, 'PM10Concentration': 0.65, 'NH3Concentration': 0.19}\n",
      "2024-05-11 12:25:31,914 INFO sqlalchemy.engine.Engine COMMIT\n",
      "2024-05-11 12:25:31,918 INFO sqlalchemy.engine.Engine BEGIN (implicit)\n",
      "2024-05-11 12:25:31,919 INFO sqlalchemy.engine.Engine SELECT \"AirPollution\".id AS \"AirPollution_id\", \"AirPollution\".\"Date\" AS \"AirPollution_Date\", \"AirPollution\".\"Location\" AS \"AirPollution_Location\", \"AirPollution\".\"AirQualityIndex\" AS \"AirPollution_AirQualityIndex\", \"AirPollution\".\"COConcentration\" AS \"AirPollution_COConcentration\", \"AirPollution\".\"NOConcentration\" AS \"AirPollution_NOConcentration\", \"AirPollution\".\"NO2Concentration\" AS \"AirPollution_NO2Concentration\", \"AirPollution\".\"O3Concentration\" AS \"AirPollution_O3Concentration\", \"AirPollution\".\"SO2Concentration\" AS \"AirPollution_SO2Concentration\", \"AirPollution\".\"PM25Concentration\" AS \"AirPollution_PM25Concentration\", \"AirPollution\".\"PM10Concentration\" AS \"AirPollution_PM10Concentration\", \"AirPollution\".\"NH3Concentration\" AS \"AirPollution_NH3Concentration\" \n",
      "FROM \"AirPollution\" \n",
      "WHERE \"AirPollution\".\"Location\" = %(Location_1)s \n",
      " LIMIT %(param_1)s\n",
      "2024-05-11 12:25:31,919 INFO sqlalchemy.engine.Engine [generated in 0.00039s] {'Location_1': 'Canberra', 'param_1': 1}\n",
      "2024-05-11 12:25:31,922 INFO sqlalchemy.engine.Engine ROLLBACK\n",
      "AirPollution(id=1,                               Date=2024-05-11,                               AirQualityIndex='1',                               COConcentration=208.62,                               NOConcentration=0.0,                               NO2Concentration=2.44,                               O3Concentration='36.12',                               SO2Concentration='0.45',                               PM25Concentration='0.5',                               PM10Concentration=0.65,                               NH3Concentration=0.19)\n"
     ]
    }
   ],
   "source": [
    "air_pollution_info = mongo_manager.find_document('air_pollution', {'coord': {\"lon\": 149.1013, \"lat\": -35.2976}})\n",
    "\n",
    "structured_data = {\n",
    "    'Date': build_date_timestamp(air_pollution_info['list'][0]['dt'], timezone=0, mode='date'),\n",
    "    'Location': city_name,\n",
    "    'AirQualityIndex': air_pollution_info['list'][0]['main']['aqi'],\n",
    "    'COConcentration': air_pollution_info['list'][0]['components']['co'],\n",
    "    'NOConcentration': air_pollution_info['list'][0]['components']['no'],\n",
    "    'NO2Concentration': air_pollution_info['list'][0]['components']['no2'],\n",
    "    'O3Concentration': air_pollution_info['list'][0]['components']['o3'],\n",
    "    'SO2Concentration': air_pollution_info['list'][0]['components']['so2'],\n",
    "    'PM25Concentration': air_pollution_info['list'][0]['components']['pm2_5'],\n",
    "    'PM10Concentration': air_pollution_info['list'][0]['components']['pm10'],\n",
    "    'NH3Concentration': air_pollution_info['list'][0]['components']['nh3']\n",
    "}\n",
    "air_pollution = AirPollution(**structured_data)\n",
    "postgre_manager.add_record(air_pollution)\n",
    "data = postgre_manager.get_record(AirPollution, Location='Canberra')\n",
    "print(data)"
   ]
  }
 ],
 "metadata": {
  "kernelspec": {
   "display_name": "venv",
   "language": "python",
   "name": "python3"
  },
  "language_info": {
   "codemirror_mode": {
    "name": "ipython",
    "version": 3
   },
   "file_extension": ".py",
   "mimetype": "text/x-python",
   "name": "python",
   "nbconvert_exporter": "python",
   "pygments_lexer": "ipython3",
   "version": "3.11.6"
  }
 },
 "nbformat": 4,
 "nbformat_minor": 2
}
