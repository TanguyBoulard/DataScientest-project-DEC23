{
 "cells": [
  {
   "metadata": {},
   "cell_type": "code",
   "source": [
    "from pathlib import Path\n",
    "from dotenv import load_dotenv\n",
    "import os\n",
    "\n",
    "import pandas as pd\n",
    "\n",
    "from database.postgresql_functools import PostgreSQLManager\n",
    "\n",
    "load_dotenv()\n",
    "dir_path = Path().resolve().parent\n",
    "postgres = PostgreSQLManager()\n",
    "\n",
    "aus_weather_query = \"\"\"\n",
    "SELECT \n",
    "    EXTRACT(YEAR FROM date) || '-' || EXTRACT(MONTH FROM date) || '-' || EXTRACT(DAY FROM date) AS \"Date\",\n",
    "    location AS \"Location\",\n",
    "    min_temp AS \"MinTemp\",\n",
    "    max_temp AS \"MaxTemp\",\n",
    "    rainfall AS \"Rainfall\",\n",
    "    evaporation AS \"Evaporation\",\n",
    "    sunshine AS \"Sunshine\",\n",
    "    wind_gust_dir AS \"WindGustDir\",\n",
    "    wind_gust_speed AS \"WindGustSpeed\",\n",
    "    temp_9am AS \"Temp9am\",\n",
    "    humidity_9am AS \"Humidity9am\",\n",
    "    cloud_9am AS \"Cloud9am\",\n",
    "    wind_dir_9am AS \"WindDir9am\",\n",
    "    wind_speed_9am AS \"WindSpeed9am\",\n",
    "    pressure_9am AS \"Pressure9am\",\n",
    "    temp_3pm AS \"Temp3pm\",\n",
    "    humidity_3pm AS \"Humidity3pm\",\n",
    "    cloud_3pm AS \"Cloud3pm\",\n",
    "    wind_dir_3pm AS \"WindDir3pm\",\n",
    "    wind_speed_3pm AS \"WindSpeed3pm\",\n",
    "    pressure_3pm AS \"Pressure3pm\"\n",
    "FROM \n",
    "    australian_meteorology_weather\n",
    "\"\"\"\n",
    "\n",
    "df_aus = pd.read_sql_query(aus_weather_query, postgres.engine)\n",
    "df_aus['RainToday'] = df_aus['Rainfall'].apply(lambda x: 'Yes' if x >= 1 else 'No')\n",
    "df_aus['RainTomorrow'] = df_aus['RainToday'].shift(-1).apply(lambda x: 'Yes' if x == 'Yes' else 'No')\n",
    "csv_path = os.path.join(dir_path, 'dataCsv', 'weather_study.csv')\n",
    "df_aus.to_csv(csv_path, index=False)"
   ],
   "outputs": [],
   "execution_count": null
  }
 ],
 "metadata": {
  "kernelspec": {
   "display_name": ".venv",
   "language": "python",
   "name": "python3"
  },
  "language_info": {
   "codemirror_mode": {
    "name": "ipython",
    "version": 3
   },
   "file_extension": ".py",
   "mimetype": "text/x-python",
   "name": "python",
   "nbconvert_exporter": "python",
   "pygments_lexer": "ipython3",
   "version": "3.11.6"
  }
 },
 "nbformat": 4,
 "nbformat_minor": 2
}
