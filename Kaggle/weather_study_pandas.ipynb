{
 "cells": [
  {
   "cell_type": "code",
   "metadata": {},
   "source": [
    "from pathlib import Path\n",
    "from dotenv import load_dotenv\n",
    "import os\n",
    "\n",
    "import pandas as pd\n",
    "\n",
    "from database.postgresql_functools import PostgreSQLManager\n",
    "\n",
    "load_dotenv()\n",
    "dir_path = Path().resolve().parent"
   ],
   "outputs": [],
   "execution_count": null
  },
  {
   "cell_type": "code",
   "metadata": {},
   "source": [
    "postgres = PostgreSQLManager()"
   ],
   "outputs": [],
   "execution_count": null
  },
  {
   "cell_type": "code",
   "metadata": {},
   "source": [
    "daily_weather_query = \"\"\"\n",
    "SELECT \n",
    "    EXTRACT(YEAR FROM dw.date) || '-' || EXTRACT(MONTH FROM dw.date) || '-' || EXTRACT(DAY FROM dw.date) AS \"Date\",\n",
    "    c.name AS \"Location\",\n",
    "    dw.min_temp AS \"MinTemp\",\n",
    "    dw.max_temp AS \"MaxTemp\",\n",
    "    dw.rainfall AS \"Rainfall\",\n",
    "    dw.wind_gust_speed AS \"WindGustSpeed\",\n",
    "    dw.wind_gust_dir AS \"WindGustDir\"\n",
    "FROM \n",
    "    daily_weather dw\n",
    "JOIN \n",
    "    city c ON dw.city_id = c.id\n",
    "ORDER BY \n",
    "    c.name, dw.date\n",
    "\"\"\"\n",
    "\n",
    "df_daily = pd.read_sql_query(daily_weather_query, postgres.engine)\n",
    "df_daily = df_daily.drop_duplicates(subset=['Date', 'Location'])\n",
    "df_daily['Evaporation'], df_daily['Sunshine'] = -1, -1\n",
    "df_daily['RainToday'] = df_daily['Rainfall'].apply(lambda x: 'Yes' if x >= 1 else 'No')\n",
    "df_daily['RainTomorrow'] = df_daily['RainToday'].shift(-1).apply(lambda x: 'Yes' if x == 'Yes' else 'No')"
   ],
   "outputs": [],
   "execution_count": null
  },
  {
   "metadata": {},
   "cell_type": "code",
   "source": [
    "weather_9am_query = \"\"\"\n",
    "SELECT \n",
    "    EXTRACT(YEAR FROM w.date) || '-' || EXTRACT(MONTH FROM w.date) || '-' || EXTRACT(DAY FROM w.date) AS \"Date\",\n",
    "    c.name AS \"Location\",\n",
    "    w.temp AS \"Temp9am\",\n",
    "    w.cloudiness AS \"Cloud9am\",\n",
    "    w.pressure AS \"Pressure9am\",\n",
    "    w.humidity AS \"Humidity9am\",\n",
    "    w.wind_gust_speed AS \"WindSpeed9am\",\n",
    "    w.wind_gust_dir AS \"WindDir9am\"\n",
    "FROM \n",
    "    weather w\n",
    "JOIN \n",
    "    city c ON w.city_id = c.id\n",
    "WHERE \n",
    "    EXTRACT(HOUR FROM w.date) = 17\n",
    "ORDER BY \n",
    "    c.name, w.date\n",
    "\"\"\"\n",
    "\n",
    "weather_3pm_query = \"\"\"\n",
    "SELECT \n",
    "    EXTRACT(YEAR FROM w.date) || '-' || EXTRACT(MONTH FROM w.date) || '-' || EXTRACT(DAY FROM w.date) AS \"Date\",\n",
    "    c.name AS \"Location\",\n",
    "    w.temp AS \"Temp3pm\",\n",
    "    w.cloudiness AS \"Cloud3pm\",\n",
    "    w.pressure AS \"Pressure3pm\",\n",
    "    w.humidity AS \"Humidity3pm\",\n",
    "    w.wind_gust_speed AS \"WindSpeed3pm\",\n",
    "    w.wind_gust_dir AS \"WindDir3pm\"\n",
    "FROM \n",
    "    weather w\n",
    "JOIN \n",
    "    city c ON w.city_id = c.id\n",
    "WHERE \n",
    "    EXTRACT(HOUR FROM w.date) = 23\n",
    "ORDER BY \n",
    "    c.name, w.date\n",
    "\"\"\"\n",
    "\n",
    "df_9am = pd.read_sql_query(weather_9am_query, postgres.engine)\n",
    "df_9am = df_9am.drop_duplicates(subset=['Date', 'Location'])\n",
    "\n",
    "df_3pm = pd.read_sql_query(weather_3pm_query, postgres.engine)\n",
    "df_3pm = df_3pm.drop_duplicates(subset=['Date', 'Location'])"
   ],
   "outputs": [],
   "execution_count": null
  },
  {
   "metadata": {},
   "cell_type": "code",
   "source": "df_3_9 = pd.merge(df_9am, df_3pm, on=['Date', 'Location'])",
   "outputs": [],
   "execution_count": null
  },
  {
   "metadata": {},
   "cell_type": "code",
   "source": "df_open = pd.merge(df_daily, df_3_9, on=['Date', 'Location'])",
   "outputs": [],
   "execution_count": null
  },
  {
   "metadata": {},
   "cell_type": "code",
   "source": [
    "aus_weather_query = \"\"\"\n",
    "SELECT \n",
    "    EXTRACT(YEAR FROM date) || '-' || EXTRACT(MONTH FROM date) || '-' || EXTRACT(DAY FROM date) AS \"Date\",\n",
    "    location AS \"Location\",\n",
    "    min_temp AS \"MinTemp\",\n",
    "    max_temp AS \"MaxTemp\",\n",
    "    rainfall AS \"Rainfall\",\n",
    "    evaporation AS \"Evaporation\",\n",
    "    sunshine AS \"Sunshine\",\n",
    "    wind_gust_dir AS \"WindGustDir\",\n",
    "    wind_gust_speed AS \"WindGustSpeed\",\n",
    "    temp_9am AS \"Temp9am\",\n",
    "    humidity_9am AS \"Humidity9am\",\n",
    "    cloud_9am AS \"Cloud9am\",\n",
    "    wind_dir_9am AS \"WindDir9am\",\n",
    "    wind_speed_9am AS \"WindSpeed9am\",\n",
    "    pressure_9am AS \"Pressure9am\",\n",
    "    temp_3pm AS \"Temp3pm\",\n",
    "    humidity_3pm AS \"Humidity3pm\",\n",
    "    cloud_3pm AS \"Cloud3pm\",\n",
    "    wind_dir_3pm AS \"WindDir3pm\",\n",
    "    wind_speed_3pm AS \"WindSpeed3pm\",\n",
    "    pressure_3pm AS \"Pressure3pm\"\n",
    "FROM \n",
    "    australian_meteorology_weather\n",
    "\"\"\"\n",
    "\n",
    "df_aus = pd.read_sql_query(aus_weather_query, postgres.engine)\n",
    "df_aus['RainToday'] = df_aus['Rainfall'].apply(lambda x: 'Yes' if x >= 1 else 'No')\n",
    "df_aus['RainTomorrow'] = df_aus['RainToday'].shift(-1).apply(lambda x: 'Yes' if x == 'Yes' else 'No')"
   ],
   "outputs": [],
   "execution_count": null
  },
  {
   "metadata": {},
   "cell_type": "code",
   "source": "df_final = pd.concat([df_open, df_aus], ignore_index=True)",
   "outputs": [],
   "execution_count": null
  },
  {
   "metadata": {},
   "cell_type": "code",
   "source": [
    "csv_path = os.path.join(dir_path, 'dataCsv', 'weather_study.csv')\n",
    "df_final.to_csv(csv_path, index=False)"
   ],
   "outputs": [],
   "execution_count": null
  }
 ],
 "metadata": {
  "kernelspec": {
   "display_name": ".venv",
   "language": "python",
   "name": "python3"
  },
  "language_info": {
   "codemirror_mode": {
    "name": "ipython",
    "version": 3
   },
   "file_extension": ".py",
   "mimetype": "text/x-python",
   "name": "python",
   "nbconvert_exporter": "python",
   "pygments_lexer": "ipython3",
   "version": "3.11.6"
  }
 },
 "nbformat": 4,
 "nbformat_minor": 2
}
