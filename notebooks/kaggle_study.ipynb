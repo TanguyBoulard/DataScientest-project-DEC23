{
 "cells": [
  {
   "cell_type": "code",
   "execution_count": 1,
   "id": "82b0cf95d682f647",
   "metadata": {
    "ExecuteTime": {
     "end_time": "2024-09-21T11:27:49.681171Z",
     "start_time": "2024-09-21T11:27:49.673273Z"
    }
   },
   "outputs": [
    {
     "ename": "ModuleNotFoundError",
     "evalue": "No module named 'numpy'",
     "output_type": "error",
     "traceback": [
      "\u001b[0;31m---------------------------------------------------------------------------\u001b[0m",
      "\u001b[0;31mModuleNotFoundError\u001b[0m                       Traceback (most recent call last)",
      "Cell \u001b[0;32mIn[1], line 5\u001b[0m\n\u001b[1;32m      3\u001b[0m \u001b[38;5;28;01mfrom\u001b[39;00m \u001b[38;5;21;01mpathlib\u001b[39;00m \u001b[38;5;28;01mimport\u001b[39;00m Path\n\u001b[1;32m      4\u001b[0m \u001b[38;5;28;01mfrom\u001b[39;00m \u001b[38;5;21;01mtyping\u001b[39;00m \u001b[38;5;28;01mimport\u001b[39;00m List, Dict, Any\n\u001b[0;32m----> 5\u001b[0m \u001b[38;5;28;01mimport\u001b[39;00m \u001b[38;5;21;01mnumpy\u001b[39;00m \u001b[38;5;28;01mas\u001b[39;00m \u001b[38;5;21;01mnp\u001b[39;00m\n\u001b[1;32m      6\u001b[0m \u001b[38;5;28;01mimport\u001b[39;00m \u001b[38;5;21;01mpandas\u001b[39;00m \u001b[38;5;28;01mas\u001b[39;00m \u001b[38;5;21;01mpd\u001b[39;00m\n\u001b[1;32m      7\u001b[0m \u001b[38;5;28;01mimport\u001b[39;00m \u001b[38;5;21;01mmatplotlib\u001b[39;00m\u001b[38;5;21;01m.\u001b[39;00m\u001b[38;5;21;01mpyplot\u001b[39;00m \u001b[38;5;28;01mas\u001b[39;00m \u001b[38;5;21;01mplt\u001b[39;00m\n",
      "\u001b[0;31mModuleNotFoundError\u001b[0m: No module named 'numpy'"
     ]
    }
   ],
   "source": [
    "import json\n",
    "import os\n",
    "from pathlib import Path\n",
    "from typing import List, Dict, Any\n",
    "import numpy as np\n",
    "import pandas as pd\n",
    "import matplotlib.pyplot as plt\n",
    "import seaborn as sns\n",
    "from sklearn.model_selection import train_test_split\n",
    "from sklearn.preprocessing import StandardScaler, OneHotEncoder\n",
    "from sklearn.impute import SimpleImputer\n",
    "from sklearn.compose import ColumnTransformer\n",
    "from sklearn.pipeline import Pipeline\n",
    "from sklearn.metrics import classification_report\n",
    "from sklearn.base import BaseEstimator\n",
    "from sklearn.linear_model import LogisticRegression\n",
    "from sklearn.tree import DecisionTreeClassifier\n",
    "from sklearn.ensemble import RandomForestClassifier\n",
    "from imblearn.over_sampling import RandomOverSampler\n",
    "from imblearn.pipeline import Pipeline as ImbPipeline\n",
    "from sklearn.model_selection import RandomizedSearchCV\n",
    "import joblib\n",
    "from scipy.stats import randint\n",
    "from scipy.stats import loguniform\n",
    "from sklearn.preprocessing import LabelEncoder\n",
    "import warnings\n",
    "\n",
    "warnings.filterwarnings('ignore')"
   ]
  },
  {
   "cell_type": "code",
   "execution_count": 52,
   "id": "b3ede8bf12d263f7",
   "metadata": {
    "ExecuteTime": {
     "end_time": "2024-09-21T11:27:49.738777Z",
     "start_time": "2024-09-21T11:27:49.711756Z"
    }
   },
   "outputs": [],
   "source": [
    "# Set up the root path for the project\n",
    "root_path: Path = Path().resolve().parent"
   ]
  },
  {
   "cell_type": "code",
   "execution_count": 53,
   "id": "bfe5086955fcaa40",
   "metadata": {
    "ExecuteTime": {
     "end_time": "2024-09-21T11:27:49.892161Z",
     "start_time": "2024-09-21T11:27:49.884192Z"
    }
   },
   "outputs": [],
   "source": [
    "# Load the configuration file\n",
    "config_path: str = os.path.join(root_path, 'config.json')\n",
    "with open(config_path, 'r') as config_file:\n",
    "    config: Dict[str, Any] = json.load(config_file)"
   ]
  },
  {
   "cell_type": "code",
   "execution_count": 54,
   "id": "3c70f4380abd2933",
   "metadata": {
    "ExecuteTime": {
     "end_time": "2024-09-21T11:27:50.399816Z",
     "start_time": "2024-09-21T11:27:49.997782Z"
    }
   },
   "outputs": [],
   "source": [
    "# Load the weather data from CSV file\n",
    "file_path: str = os.path.join(root_path, 'data', 'csv', 'weatherAUS.csv')\n",
    "df: pd.DataFrame = pd.read_csv(file_path)"
   ]
  },
  {
   "cell_type": "code",
   "execution_count": 55,
   "id": "fef13ba623b47d70",
   "metadata": {
    "ExecuteTime": {
     "end_time": "2024-09-21T11:27:50.533299Z",
     "start_time": "2024-09-21T11:27:50.513445Z"
    }
   },
   "outputs": [],
   "source": [
    "# Define column renaming dictionary\n",
    "column_rename_dict: Dict[str, str] = {\n",
    "    'Date': 'date',\n",
    "    'Location': 'location',\n",
    "    'MinTemp': 'min_temp',\n",
    "    'MaxTemp': 'max_temp',\n",
    "    'Rainfall': 'rainfall',\n",
    "    'Evaporation': 'evaporation',\n",
    "    'Sunshine': 'sunshine',\n",
    "    'WindGustDir': 'wind_gust_dir',\n",
    "    'WindGustSpeed': 'wind_gust_speed',\n",
    "    'WindDir9am': 'wind_dir_9am',\n",
    "    'WindDir3pm': 'wind_dir_3pm',\n",
    "    'WindSpeed9am': 'wind_speed_9am',\n",
    "    'WindSpeed3pm': 'wind_speed_3pm',\n",
    "    'Humidity9am': 'humidity_9am',\n",
    "    'Humidity3pm': 'humidity_3pm',\n",
    "    'Pressure9am': 'pressure_9am',\n",
    "    'Pressure3pm': 'pressure_3pm',\n",
    "    'Cloud9am': 'cloud_9am',\n",
    "    'Cloud3pm': 'cloud_3pm',\n",
    "    'Temp9am': 'temp_9am',\n",
    "    'Temp3pm': 'temp_3pm',\n",
    "    'RainToday': 'rain_today',\n",
    "    'RainTomorrow': 'rain_tomorrow'\n",
    "}\n",
    "\n",
    "# Rename columns\n",
    "df = df.rename(columns=column_rename_dict)"
   ]
  },
  {
   "cell_type": "code",
   "execution_count": 56,
   "id": "69486714f082f294",
   "metadata": {
    "ExecuteTime": {
     "end_time": "2024-09-21T11:27:50.713238Z",
     "start_time": "2024-09-21T11:27:50.685246Z"
    }
   },
   "outputs": [],
   "source": [
    "# Filter the DataFrame to include only specific locations\n",
    "locations_of_interest: List[str] = config['locations']\n",
    "df = df[df['location'].isin(locations_of_interest)]"
   ]
  },
  {
   "cell_type": "code",
   "execution_count": 57,
   "id": "c7758eb03d7fd428",
   "metadata": {
    "ExecuteTime": {
     "end_time": "2024-09-21T11:27:50.835379Z",
     "start_time": "2024-09-21T11:27:50.815955Z"
    }
   },
   "outputs": [],
   "source": [
    "# Convert 'date' column to datetime format\n",
    "df['date'] = pd.to_datetime(df['date'])"
   ]
  },
  {
   "cell_type": "code",
   "execution_count": 58,
   "id": "52c471b5c9a0bce6",
   "metadata": {
    "ExecuteTime": {
     "end_time": "2024-09-21T11:27:50.956250Z",
     "start_time": "2024-09-21T11:27:50.918307Z"
    }
   },
   "outputs": [
    {
     "data": {
      "text/html": [
       "<div>\n",
       "<style scoped>\n",
       "    .dataframe tbody tr th:only-of-type {\n",
       "        vertical-align: middle;\n",
       "    }\n",
       "\n",
       "    .dataframe tbody tr th {\n",
       "        vertical-align: top;\n",
       "    }\n",
       "\n",
       "    .dataframe thead th {\n",
       "        text-align: right;\n",
       "    }\n",
       "</style>\n",
       "<table border=\"1\" class=\"dataframe\">\n",
       "  <thead>\n",
       "    <tr style=\"text-align: right;\">\n",
       "      <th></th>\n",
       "      <th>date</th>\n",
       "      <th>location</th>\n",
       "      <th>min_temp</th>\n",
       "      <th>max_temp</th>\n",
       "      <th>rainfall</th>\n",
       "      <th>evaporation</th>\n",
       "      <th>sunshine</th>\n",
       "      <th>wind_gust_dir</th>\n",
       "      <th>wind_gust_speed</th>\n",
       "      <th>wind_dir_9am</th>\n",
       "      <th>...</th>\n",
       "      <th>humidity_9am</th>\n",
       "      <th>humidity_3pm</th>\n",
       "      <th>pressure_9am</th>\n",
       "      <th>pressure_3pm</th>\n",
       "      <th>cloud_9am</th>\n",
       "      <th>cloud_3pm</th>\n",
       "      <th>temp_9am</th>\n",
       "      <th>temp_3pm</th>\n",
       "      <th>rain_today</th>\n",
       "      <th>rain_tomorrow</th>\n",
       "    </tr>\n",
       "  </thead>\n",
       "  <tbody>\n",
       "    <tr>\n",
       "      <th>30176</th>\n",
       "      <td>2008-02-01</td>\n",
       "      <td>Sydney</td>\n",
       "      <td>19.5</td>\n",
       "      <td>22.4</td>\n",
       "      <td>15.6</td>\n",
       "      <td>6.2</td>\n",
       "      <td>0.0</td>\n",
       "      <td>NaN</td>\n",
       "      <td>NaN</td>\n",
       "      <td>S</td>\n",
       "      <td>...</td>\n",
       "      <td>92.0</td>\n",
       "      <td>84.0</td>\n",
       "      <td>1017.6</td>\n",
       "      <td>1017.4</td>\n",
       "      <td>8.0</td>\n",
       "      <td>8.0</td>\n",
       "      <td>20.7</td>\n",
       "      <td>20.9</td>\n",
       "      <td>Yes</td>\n",
       "      <td>Yes</td>\n",
       "    </tr>\n",
       "    <tr>\n",
       "      <th>30177</th>\n",
       "      <td>2008-02-02</td>\n",
       "      <td>Sydney</td>\n",
       "      <td>19.5</td>\n",
       "      <td>25.6</td>\n",
       "      <td>6.0</td>\n",
       "      <td>3.4</td>\n",
       "      <td>2.7</td>\n",
       "      <td>NaN</td>\n",
       "      <td>NaN</td>\n",
       "      <td>W</td>\n",
       "      <td>...</td>\n",
       "      <td>83.0</td>\n",
       "      <td>73.0</td>\n",
       "      <td>1017.9</td>\n",
       "      <td>1016.4</td>\n",
       "      <td>7.0</td>\n",
       "      <td>7.0</td>\n",
       "      <td>22.4</td>\n",
       "      <td>24.8</td>\n",
       "      <td>Yes</td>\n",
       "      <td>Yes</td>\n",
       "    </tr>\n",
       "    <tr>\n",
       "      <th>30178</th>\n",
       "      <td>2008-02-03</td>\n",
       "      <td>Sydney</td>\n",
       "      <td>21.6</td>\n",
       "      <td>24.5</td>\n",
       "      <td>6.6</td>\n",
       "      <td>2.4</td>\n",
       "      <td>0.1</td>\n",
       "      <td>NaN</td>\n",
       "      <td>NaN</td>\n",
       "      <td>ESE</td>\n",
       "      <td>...</td>\n",
       "      <td>88.0</td>\n",
       "      <td>86.0</td>\n",
       "      <td>1016.7</td>\n",
       "      <td>1015.6</td>\n",
       "      <td>7.0</td>\n",
       "      <td>8.0</td>\n",
       "      <td>23.5</td>\n",
       "      <td>23.0</td>\n",
       "      <td>Yes</td>\n",
       "      <td>Yes</td>\n",
       "    </tr>\n",
       "    <tr>\n",
       "      <th>30179</th>\n",
       "      <td>2008-02-04</td>\n",
       "      <td>Sydney</td>\n",
       "      <td>20.2</td>\n",
       "      <td>22.8</td>\n",
       "      <td>18.8</td>\n",
       "      <td>2.2</td>\n",
       "      <td>0.0</td>\n",
       "      <td>NaN</td>\n",
       "      <td>NaN</td>\n",
       "      <td>NNE</td>\n",
       "      <td>...</td>\n",
       "      <td>83.0</td>\n",
       "      <td>90.0</td>\n",
       "      <td>1014.2</td>\n",
       "      <td>1011.8</td>\n",
       "      <td>8.0</td>\n",
       "      <td>8.0</td>\n",
       "      <td>21.4</td>\n",
       "      <td>20.9</td>\n",
       "      <td>Yes</td>\n",
       "      <td>Yes</td>\n",
       "    </tr>\n",
       "    <tr>\n",
       "      <th>30180</th>\n",
       "      <td>2008-02-05</td>\n",
       "      <td>Sydney</td>\n",
       "      <td>19.7</td>\n",
       "      <td>25.7</td>\n",
       "      <td>77.4</td>\n",
       "      <td>NaN</td>\n",
       "      <td>0.0</td>\n",
       "      <td>NaN</td>\n",
       "      <td>NaN</td>\n",
       "      <td>NNE</td>\n",
       "      <td>...</td>\n",
       "      <td>88.0</td>\n",
       "      <td>74.0</td>\n",
       "      <td>1008.3</td>\n",
       "      <td>1004.8</td>\n",
       "      <td>8.0</td>\n",
       "      <td>8.0</td>\n",
       "      <td>22.5</td>\n",
       "      <td>25.5</td>\n",
       "      <td>Yes</td>\n",
       "      <td>Yes</td>\n",
       "    </tr>\n",
       "  </tbody>\n",
       "</table>\n",
       "<p>5 rows × 23 columns</p>\n",
       "</div>"
      ],
      "text/plain": [
       "            date location  min_temp  max_temp  rainfall  evaporation  \\\n",
       "30176 2008-02-01   Sydney      19.5      22.4      15.6          6.2   \n",
       "30177 2008-02-02   Sydney      19.5      25.6       6.0          3.4   \n",
       "30178 2008-02-03   Sydney      21.6      24.5       6.6          2.4   \n",
       "30179 2008-02-04   Sydney      20.2      22.8      18.8          2.2   \n",
       "30180 2008-02-05   Sydney      19.7      25.7      77.4          NaN   \n",
       "\n",
       "       sunshine wind_gust_dir  wind_gust_speed wind_dir_9am  ... humidity_9am  \\\n",
       "30176       0.0           NaN              NaN            S  ...         92.0   \n",
       "30177       2.7           NaN              NaN            W  ...         83.0   \n",
       "30178       0.1           NaN              NaN          ESE  ...         88.0   \n",
       "30179       0.0           NaN              NaN          NNE  ...         83.0   \n",
       "30180       0.0           NaN              NaN          NNE  ...         88.0   \n",
       "\n",
       "       humidity_3pm  pressure_9am  pressure_3pm  cloud_9am  cloud_3pm  \\\n",
       "30176          84.0        1017.6        1017.4        8.0        8.0   \n",
       "30177          73.0        1017.9        1016.4        7.0        7.0   \n",
       "30178          86.0        1016.7        1015.6        7.0        8.0   \n",
       "30179          90.0        1014.2        1011.8        8.0        8.0   \n",
       "30180          74.0        1008.3        1004.8        8.0        8.0   \n",
       "\n",
       "       temp_9am  temp_3pm  rain_today  rain_tomorrow  \n",
       "30176      20.7      20.9         Yes            Yes  \n",
       "30177      22.4      24.8         Yes            Yes  \n",
       "30178      23.5      23.0         Yes            Yes  \n",
       "30179      21.4      20.9         Yes            Yes  \n",
       "30180      22.5      25.5         Yes            Yes  \n",
       "\n",
       "[5 rows x 23 columns]"
      ]
     },
     "execution_count": 58,
     "metadata": {},
     "output_type": "execute_result"
    }
   ],
   "source": [
    "# Display the first few rows of the DataFrame\n",
    "df.head()"
   ]
  },
  {
   "cell_type": "code",
   "execution_count": 59,
   "id": "3d9e6ad6523e2f9b",
   "metadata": {
    "ExecuteTime": {
     "end_time": "2024-09-21T11:27:51.087114Z",
     "start_time": "2024-09-21T11:27:51.077086Z"
    }
   },
   "outputs": [
    {
     "data": {
      "text/plain": [
       "(13166, 23)"
      ]
     },
     "execution_count": 59,
     "metadata": {},
     "output_type": "execute_result"
    }
   ],
   "source": [
    "# Display the shape of the DataFrame\n",
    "df.shape"
   ]
  },
  {
   "cell_type": "code",
   "execution_count": 60,
   "id": "a81ad52474508c9e",
   "metadata": {
    "ExecuteTime": {
     "end_time": "2024-09-21T11:27:51.244358Z",
     "start_time": "2024-09-21T11:27:51.218915Z"
    }
   },
   "outputs": [
    {
     "name": "stdout",
     "output_type": "stream",
     "text": [
      "<class 'pandas.core.frame.DataFrame'>\n",
      "Index: 13166 entries, 30176 to 142303\n",
      "Data columns (total 23 columns):\n",
      " #   Column           Non-Null Count  Dtype         \n",
      "---  ------           --------------  -----         \n",
      " 0   date             13166 non-null  datetime64[ns]\n",
      " 1   location         13166 non-null  object        \n",
      " 2   min_temp         12675 non-null  float64       \n",
      " 3   max_temp         12679 non-null  float64       \n",
      " 4   rainfall         12383 non-null  float64       \n",
      " 5   evaporation      11454 non-null  float64       \n",
      " 6   sunshine         11230 non-null  float64       \n",
      " 7   wind_gust_dir    11729 non-null  object        \n",
      " 8   wind_gust_speed  11735 non-null  float64       \n",
      " 9   wind_dir_9am     12491 non-null  object        \n",
      " 10  wind_dir_3pm     12890 non-null  object        \n",
      " 11  wind_speed_9am   12907 non-null  float64       \n",
      " 12  wind_speed_3pm   12916 non-null  float64       \n",
      " 13  humidity_9am     12605 non-null  float64       \n",
      " 14  humidity_3pm     12652 non-null  float64       \n",
      " 15  pressure_9am     12438 non-null  float64       \n",
      " 16  pressure_3pm     12441 non-null  float64       \n",
      " 17  cloud_9am        10491 non-null  float64       \n",
      " 18  cloud_3pm        10231 non-null  float64       \n",
      " 19  temp_9am         12662 non-null  float64       \n",
      " 20  temp_3pm         12669 non-null  float64       \n",
      " 21  rain_today       12383 non-null  object        \n",
      " 22  rain_tomorrow    12382 non-null  object        \n",
      "dtypes: datetime64[ns](1), float64(16), object(6)\n",
      "memory usage: 2.4+ MB\n"
     ]
    }
   ],
   "source": [
    "# Data Info\n",
    "df.info()"
   ]
  },
  {
   "cell_type": "code",
   "execution_count": 61,
   "id": "7a803639563a2268",
   "metadata": {
    "ExecuteTime": {
     "end_time": "2024-09-21T11:27:51.536933Z",
     "start_time": "2024-09-21T11:27:51.486064Z"
    }
   },
   "outputs": [
    {
     "data": {
      "text/html": [
       "<div>\n",
       "<style scoped>\n",
       "    .dataframe tbody tr th:only-of-type {\n",
       "        vertical-align: middle;\n",
       "    }\n",
       "\n",
       "    .dataframe tbody tr th {\n",
       "        vertical-align: top;\n",
       "    }\n",
       "\n",
       "    .dataframe thead th {\n",
       "        text-align: right;\n",
       "    }\n",
       "</style>\n",
       "<table border=\"1\" class=\"dataframe\">\n",
       "  <thead>\n",
       "    <tr style=\"text-align: right;\">\n",
       "      <th></th>\n",
       "      <th>date</th>\n",
       "      <th>min_temp</th>\n",
       "      <th>max_temp</th>\n",
       "      <th>rainfall</th>\n",
       "      <th>evaporation</th>\n",
       "      <th>sunshine</th>\n",
       "      <th>wind_gust_speed</th>\n",
       "      <th>wind_speed_9am</th>\n",
       "      <th>wind_speed_3pm</th>\n",
       "      <th>humidity_9am</th>\n",
       "      <th>humidity_3pm</th>\n",
       "      <th>pressure_9am</th>\n",
       "      <th>pressure_3pm</th>\n",
       "      <th>cloud_9am</th>\n",
       "      <th>cloud_3pm</th>\n",
       "      <th>temp_9am</th>\n",
       "      <th>temp_3pm</th>\n",
       "    </tr>\n",
       "  </thead>\n",
       "  <tbody>\n",
       "    <tr>\n",
       "      <th>count</th>\n",
       "      <td>13166</td>\n",
       "      <td>12675.000000</td>\n",
       "      <td>12679.000000</td>\n",
       "      <td>12383.000000</td>\n",
       "      <td>11454.000000</td>\n",
       "      <td>11230.000000</td>\n",
       "      <td>11735.000000</td>\n",
       "      <td>12907.000000</td>\n",
       "      <td>12916.000000</td>\n",
       "      <td>12605.000000</td>\n",
       "      <td>12652.000000</td>\n",
       "      <td>12438.000000</td>\n",
       "      <td>12441.000000</td>\n",
       "      <td>10491.000000</td>\n",
       "      <td>10231.000000</td>\n",
       "      <td>12662.000000</td>\n",
       "      <td>12669.000000</td>\n",
       "    </tr>\n",
       "    <tr>\n",
       "      <th>mean</th>\n",
       "      <td>2012-11-10 15:27:55.041774336</td>\n",
       "      <td>14.129799</td>\n",
       "      <td>24.377530</td>\n",
       "      <td>3.057498</td>\n",
       "      <td>5.222368</td>\n",
       "      <td>7.358709</td>\n",
       "      <td>42.038517</td>\n",
       "      <td>14.901294</td>\n",
       "      <td>20.333462</td>\n",
       "      <td>69.480444</td>\n",
       "      <td>50.819712</td>\n",
       "      <td>1016.698392</td>\n",
       "      <td>1014.055276</td>\n",
       "      <td>4.616910</td>\n",
       "      <td>4.595445</td>\n",
       "      <td>18.103514</td>\n",
       "      <td>22.895793</td>\n",
       "    </tr>\n",
       "    <tr>\n",
       "      <th>min</th>\n",
       "      <td>2007-11-01 00:00:00</td>\n",
       "      <td>-8.000000</td>\n",
       "      <td>4.100000</td>\n",
       "      <td>0.000000</td>\n",
       "      <td>0.000000</td>\n",
       "      <td>0.000000</td>\n",
       "      <td>11.000000</td>\n",
       "      <td>0.000000</td>\n",
       "      <td>0.000000</td>\n",
       "      <td>11.000000</td>\n",
       "      <td>4.000000</td>\n",
       "      <td>986.700000</td>\n",
       "      <td>985.500000</td>\n",
       "      <td>0.000000</td>\n",
       "      <td>0.000000</td>\n",
       "      <td>-1.300000</td>\n",
       "      <td>3.700000</td>\n",
       "    </tr>\n",
       "    <tr>\n",
       "      <th>25%</th>\n",
       "      <td>2010-06-25 00:00:00</td>\n",
       "      <td>8.900000</td>\n",
       "      <td>18.500000</td>\n",
       "      <td>0.000000</td>\n",
       "      <td>3.000000</td>\n",
       "      <td>4.600000</td>\n",
       "      <td>33.000000</td>\n",
       "      <td>9.000000</td>\n",
       "      <td>15.000000</td>\n",
       "      <td>60.000000</td>\n",
       "      <td>39.000000</td>\n",
       "      <td>1011.800000</td>\n",
       "      <td>1008.700000</td>\n",
       "      <td>2.000000</td>\n",
       "      <td>2.000000</td>\n",
       "      <td>12.400000</td>\n",
       "      <td>17.200000</td>\n",
       "    </tr>\n",
       "    <tr>\n",
       "      <th>50%</th>\n",
       "      <td>2012-10-25 00:00:00</td>\n",
       "      <td>14.000000</td>\n",
       "      <td>24.200000</td>\n",
       "      <td>0.000000</td>\n",
       "      <td>5.000000</td>\n",
       "      <td>8.300000</td>\n",
       "      <td>39.000000</td>\n",
       "      <td>13.000000</td>\n",
       "      <td>20.000000</td>\n",
       "      <td>71.000000</td>\n",
       "      <td>51.000000</td>\n",
       "      <td>1016.000000</td>\n",
       "      <td>1013.100000</td>\n",
       "      <td>5.000000</td>\n",
       "      <td>5.000000</td>\n",
       "      <td>17.700000</td>\n",
       "      <td>22.600000</td>\n",
       "    </tr>\n",
       "    <tr>\n",
       "      <th>75%</th>\n",
       "      <td>2015-03-25 18:00:00</td>\n",
       "      <td>20.300000</td>\n",
       "      <td>31.200000</td>\n",
       "      <td>1.000000</td>\n",
       "      <td>7.000000</td>\n",
       "      <td>10.500000</td>\n",
       "      <td>50.000000</td>\n",
       "      <td>20.000000</td>\n",
       "      <td>26.000000</td>\n",
       "      <td>80.000000</td>\n",
       "      <td>62.000000</td>\n",
       "      <td>1021.700000</td>\n",
       "      <td>1019.200000</td>\n",
       "      <td>7.000000</td>\n",
       "      <td>7.000000</td>\n",
       "      <td>24.300000</td>\n",
       "      <td>29.400000</td>\n",
       "    </tr>\n",
       "    <tr>\n",
       "      <th>max</th>\n",
       "      <td>2017-06-25 00:00:00</td>\n",
       "      <td>29.700000</td>\n",
       "      <td>46.400000</td>\n",
       "      <td>367.600000</td>\n",
       "      <td>23.800000</td>\n",
       "      <td>13.900000</td>\n",
       "      <td>126.000000</td>\n",
       "      <td>67.000000</td>\n",
       "      <td>76.000000</td>\n",
       "      <td>100.000000</td>\n",
       "      <td>100.000000</td>\n",
       "      <td>1040.600000</td>\n",
       "      <td>1037.900000</td>\n",
       "      <td>9.000000</td>\n",
       "      <td>8.000000</td>\n",
       "      <td>36.500000</td>\n",
       "      <td>45.400000</td>\n",
       "    </tr>\n",
       "    <tr>\n",
       "      <th>std</th>\n",
       "      <td>NaN</td>\n",
       "      <td>7.652003</td>\n",
       "      <td>7.093133</td>\n",
       "      <td>10.590969</td>\n",
       "      <td>2.855495</td>\n",
       "      <td>3.716506</td>\n",
       "      <td>13.522773</td>\n",
       "      <td>9.222554</td>\n",
       "      <td>8.346006</td>\n",
       "      <td>15.171432</td>\n",
       "      <td>17.689511</td>\n",
       "      <td>7.211286</td>\n",
       "      <td>7.242959</td>\n",
       "      <td>2.711051</td>\n",
       "      <td>2.620294</td>\n",
       "      <td>7.349728</td>\n",
       "      <td>7.018754</td>\n",
       "    </tr>\n",
       "  </tbody>\n",
       "</table>\n",
       "</div>"
      ],
      "text/plain": [
       "                                date      min_temp      max_temp  \\\n",
       "count                          13166  12675.000000  12679.000000   \n",
       "mean   2012-11-10 15:27:55.041774336     14.129799     24.377530   \n",
       "min              2007-11-01 00:00:00     -8.000000      4.100000   \n",
       "25%              2010-06-25 00:00:00      8.900000     18.500000   \n",
       "50%              2012-10-25 00:00:00     14.000000     24.200000   \n",
       "75%              2015-03-25 18:00:00     20.300000     31.200000   \n",
       "max              2017-06-25 00:00:00     29.700000     46.400000   \n",
       "std                              NaN      7.652003      7.093133   \n",
       "\n",
       "           rainfall   evaporation      sunshine  wind_gust_speed  \\\n",
       "count  12383.000000  11454.000000  11230.000000     11735.000000   \n",
       "mean       3.057498      5.222368      7.358709        42.038517   \n",
       "min        0.000000      0.000000      0.000000        11.000000   \n",
       "25%        0.000000      3.000000      4.600000        33.000000   \n",
       "50%        0.000000      5.000000      8.300000        39.000000   \n",
       "75%        1.000000      7.000000     10.500000        50.000000   \n",
       "max      367.600000     23.800000     13.900000       126.000000   \n",
       "std       10.590969      2.855495      3.716506        13.522773   \n",
       "\n",
       "       wind_speed_9am  wind_speed_3pm  humidity_9am  humidity_3pm  \\\n",
       "count    12907.000000    12916.000000  12605.000000  12652.000000   \n",
       "mean        14.901294       20.333462     69.480444     50.819712   \n",
       "min          0.000000        0.000000     11.000000      4.000000   \n",
       "25%          9.000000       15.000000     60.000000     39.000000   \n",
       "50%         13.000000       20.000000     71.000000     51.000000   \n",
       "75%         20.000000       26.000000     80.000000     62.000000   \n",
       "max         67.000000       76.000000    100.000000    100.000000   \n",
       "std          9.222554        8.346006     15.171432     17.689511   \n",
       "\n",
       "       pressure_9am  pressure_3pm     cloud_9am     cloud_3pm      temp_9am  \\\n",
       "count  12438.000000  12441.000000  10491.000000  10231.000000  12662.000000   \n",
       "mean    1016.698392   1014.055276      4.616910      4.595445     18.103514   \n",
       "min      986.700000    985.500000      0.000000      0.000000     -1.300000   \n",
       "25%     1011.800000   1008.700000      2.000000      2.000000     12.400000   \n",
       "50%     1016.000000   1013.100000      5.000000      5.000000     17.700000   \n",
       "75%     1021.700000   1019.200000      7.000000      7.000000     24.300000   \n",
       "max     1040.600000   1037.900000      9.000000      8.000000     36.500000   \n",
       "std        7.211286      7.242959      2.711051      2.620294      7.349728   \n",
       "\n",
       "           temp_3pm  \n",
       "count  12669.000000  \n",
       "mean      22.895793  \n",
       "min        3.700000  \n",
       "25%       17.200000  \n",
       "50%       22.600000  \n",
       "75%       29.400000  \n",
       "max       45.400000  \n",
       "std        7.018754  "
      ]
     },
     "execution_count": 61,
     "metadata": {},
     "output_type": "execute_result"
    }
   ],
   "source": [
    "# Descriptive Statistics\n",
    "df.describe()"
   ]
  },
  {
   "cell_type": "code",
   "execution_count": 62,
   "id": "3885f9e9110ef376",
   "metadata": {
    "ExecuteTime": {
     "end_time": "2024-09-21T11:27:51.895090Z",
     "start_time": "2024-09-21T11:27:51.869699Z"
    }
   },
   "outputs": [
    {
     "data": {
      "text/plain": [
       "date                  0\n",
       "location              0\n",
       "min_temp            491\n",
       "max_temp            487\n",
       "rainfall            783\n",
       "evaporation        1712\n",
       "sunshine           1936\n",
       "wind_gust_dir      1437\n",
       "wind_gust_speed    1431\n",
       "wind_dir_9am        675\n",
       "wind_dir_3pm        276\n",
       "wind_speed_9am      259\n",
       "wind_speed_3pm      250\n",
       "humidity_9am        561\n",
       "humidity_3pm        514\n",
       "pressure_9am        728\n",
       "pressure_3pm        725\n",
       "cloud_9am          2675\n",
       "cloud_3pm          2935\n",
       "temp_9am            504\n",
       "temp_3pm            497\n",
       "rain_today          783\n",
       "rain_tomorrow       784\n",
       "dtype: int64"
      ]
     },
     "execution_count": 62,
     "metadata": {},
     "output_type": "execute_result"
    }
   ],
   "source": [
    "# Missing Values\n",
    "df.isna().sum()"
   ]
  },
  {
   "cell_type": "code",
   "execution_count": 63,
   "id": "af0224a6a98f971",
   "metadata": {
    "ExecuteTime": {
     "end_time": "2024-09-21T11:27:52.039900Z",
     "start_time": "2024-09-21T11:27:52.031777Z"
    }
   },
   "outputs": [],
   "source": [
    "# Drop rows with missing target values\n",
    "df = df.dropna(subset=['rain_today', 'rain_tomorrow'])"
   ]
  },
  {
   "cell_type": "code",
   "execution_count": null,
   "id": "b065d15533b46b5d",
   "metadata": {},
   "outputs": [],
   "source": [
    "# Rainfall over Time\n",
    "plt.figure(figsize=(12, 6))\n",
    "plt.plot(df['date'], df['rainfall'])\n",
    "plt.title('Rainfall over Time')\n",
    "plt.xlabel('Date')\n",
    "plt.ylabel('Rainfall (mm)')\n",
    "plt.xticks(rotation=45)\n",
    "plt.tight_layout()\n",
    "plt.show()"
   ]
  },
  {
   "cell_type": "code",
   "execution_count": null,
   "id": "eace9d5ec7f0a932",
   "metadata": {},
   "outputs": [],
   "source": [
    "# Distribution of Min and Max Temperatures\n",
    "plt.figure(figsize=(10, 6))\n",
    "sns.histplot(df['min_temp'], kde=True, color='blue', alpha=0.5, label='Min Temp')\n",
    "sns.histplot(df['max_temp'], kde=True, color='red', alpha=0.5, label='Max Temp')\n",
    "plt.title('Distribution of Min and Max Temperatures')\n",
    "plt.xlabel('Temperature (°C)')\n",
    "plt.ylabel('Frequency')\n",
    "plt.legend()\n",
    "plt.show()"
   ]
  },
  {
   "cell_type": "code",
   "execution_count": null,
   "id": "6786ccd88f434daf",
   "metadata": {},
   "outputs": [],
   "source": [
    "# Wind Gust Speed by Location\n",
    "plt.figure(figsize=(12, 6))\n",
    "sns.boxplot(x='location', y='wind_gust_speed', data=df)\n",
    "plt.title('Wind Gust Speed by Location')\n",
    "plt.xlabel('Location')\n",
    "plt.ylabel('Wind Gust Speed (km/h)')\n",
    "plt.xticks(rotation=45)\n",
    "plt.tight_layout()\n",
    "plt.show()"
   ]
  },
  {
   "cell_type": "code",
   "execution_count": null,
   "id": "e688bb319b6e40b5",
   "metadata": {},
   "outputs": [],
   "source": [
    "# Correlation Heatmap of Numerical Features\n",
    "corr = df[df.select_dtypes(include=['int64', 'float64']).columns.tolist()].corr()\n",
    "plt.figure(figsize=(12, 10))\n",
    "sns.heatmap(corr, annot=True, cmap='coolwarm', fmt='.2f', square=True)\n",
    "plt.title('Correlation Heatmap of Numerical Features')\n",
    "plt.tight_layout()\n",
    "plt.show()"
   ]
  },
  {
   "cell_type": "code",
   "execution_count": 68,
   "id": "e0218c58e412b5e0",
   "metadata": {
    "ExecuteTime": {
     "end_time": "2024-09-21T11:27:55.554126Z",
     "start_time": "2024-09-21T11:27:55.545136Z"
    }
   },
   "outputs": [],
   "source": [
    "def create_preprocessor(numerical_columns: List[str],\n",
    "                        categorical_columns: List[str]) -> ColumnTransformer:\n",
    "    numerical_transformer = Pipeline(steps=[\n",
    "        ('imputer', SimpleImputer(missing_values=np.nan, strategy='median')),\n",
    "        ('scaler', StandardScaler())\n",
    "    ])\n",
    "\n",
    "    categorical_transformer = Pipeline(steps=[\n",
    "        ('imputer', SimpleImputer(missing_values=np.nan, strategy='most_frequent')),\n",
    "        ('onehot', OneHotEncoder(drop='first', sparse_output=False, handle_unknown='ignore'))\n",
    "    ])\n",
    "\n",
    "    preprocessor = ColumnTransformer(\n",
    "        transformers=[\n",
    "            ('num', numerical_transformer, numerical_columns),\n",
    "            ('cat', categorical_transformer, categorical_columns),\n",
    "        ])\n",
    "\n",
    "    return preprocessor"
   ]
  },
  {
   "cell_type": "code",
   "execution_count": 69,
   "id": "2a10b9ae27d6bbcc",
   "metadata": {
    "ExecuteTime": {
     "end_time": "2024-09-21T11:27:55.640244Z",
     "start_time": "2024-09-21T11:27:55.631665Z"
    }
   },
   "outputs": [],
   "source": [
    "def create_model_pipeline(model: BaseEstimator, preprocessor: ColumnTransformer, \n",
    "                          oversample: bool = False) -> ImbPipeline:\n",
    "    steps = [('preprocessor', preprocessor)]\n",
    "    \n",
    "    if oversample:\n",
    "        steps.append(('sampler', RandomOverSampler(random_state=42)))\n",
    "    \n",
    "    steps.append(('model', model))\n",
    "    \n",
    "    return ImbPipeline(steps)"
   ]
  },
  {
   "cell_type": "code",
   "execution_count": 70,
   "id": "9149e00e46b6c240",
   "metadata": {
    "ExecuteTime": {
     "end_time": "2024-09-21T11:27:55.727695Z",
     "start_time": "2024-09-21T11:27:55.709662Z"
    }
   },
   "outputs": [],
   "source": [
    "def compare_models(models: Dict[str, BaseEstimator], X: pd.DataFrame, y: pd.Series, \n",
    "                   preprocessor: ColumnTransformer, \n",
    "                   param_grids: Dict[str, Dict[str, Any]],\n",
    "                   n_iter: int = 10,\n",
    "                   cv: int = 5) -> Dict[str, Dict[str, Any]]:\n",
    "    X_train, X_test, y_train, y_test = train_test_split(X, y, test_size=0.2, random_state=42, stratify=y)\n",
    "    results = {}\n",
    "    \n",
    "    for name, model in models.items():\n",
    "        # Without oversampling\n",
    "        pipeline_no_os = create_model_pipeline(model, preprocessor, oversample=False)\n",
    "        search_no_os = RandomizedSearchCV(pipeline_no_os, param_grids[name], n_iter=n_iter, cv=cv, n_jobs=-1, random_state=42, scoring='f1')\n",
    "        search_no_os.fit(X_train, y_train)\n",
    "        \n",
    "        # With oversampling\n",
    "        pipeline_os = create_model_pipeline(model, preprocessor, oversample=True)\n",
    "        search_os = RandomizedSearchCV(pipeline_os, param_grids[name], n_iter=n_iter, cv=cv, n_jobs=-1, random_state=42, scoring='f1')\n",
    "        search_os.fit(X_train, y_train)\n",
    "        \n",
    "        # Evaluate best models\n",
    "        results[f\"{name}_no oversampling\"] = evaluate_model(search_no_os.best_estimator_, X_test, y_test)\n",
    "        results[f\"{name}_with oversampling\"] = evaluate_model(search_os.best_estimator_, X_test, y_test)\n",
    "        \n",
    "        # Store best parameters\n",
    "        results[f\"{name}_no oversampling\"][\"best_params\"] = search_no_os.best_params_\n",
    "        results[f\"{name}_with oversampling\"][\"best_params\"] = search_os.best_params_\n",
    "    \n",
    "    return results"
   ]
  },
  {
   "cell_type": "code",
   "execution_count": 71,
   "id": "ff26e1f59d8cff61",
   "metadata": {
    "ExecuteTime": {
     "end_time": "2024-09-21T11:27:55.853629Z",
     "start_time": "2024-09-21T11:27:55.845172Z"
    }
   },
   "outputs": [],
   "source": [
    "def evaluate_model(model: BaseEstimator, X_test: pd.DataFrame, y_test: np.ndarray) -> Dict[str, float]:\n",
    "    y_pred = model.predict(X_test)\n",
    "    \n",
    "    return {\n",
    "        'accuracy': model.score(X_test, y_test),\n",
    "        'precision': classification_report(y_test, y_pred, output_dict=True, zero_division=0)['weighted avg']['precision'],\n",
    "        'recall': classification_report(y_test, y_pred, output_dict=True, zero_division=0)['weighted avg']['recall'],\n",
    "        'f1-score': classification_report(y_test, y_pred, output_dict=True, zero_division=0)['weighted avg']['f1-score']\n",
    "    }"
   ]
  },
  {
   "cell_type": "code",
   "execution_count": 72,
   "id": "96b22fb842e8b638",
   "metadata": {
    "ExecuteTime": {
     "end_time": "2024-09-21T11:27:55.981170Z",
     "start_time": "2024-09-21T11:27:55.968412Z"
    }
   },
   "outputs": [],
   "source": [
    "# Prepare data for modeling\n",
    "X: pd.DataFrame = df.drop(['rain_tomorrow', 'date'], axis=1)\n",
    "y: pd.Series = df['rain_tomorrow']"
   ]
  },
  {
   "cell_type": "code",
   "execution_count": 73,
   "id": "a4e23c852a1ec263",
   "metadata": {
    "ExecuteTime": {
     "end_time": "2024-09-21T11:27:56.049654Z",
     "start_time": "2024-09-21T11:27:56.043517Z"
    }
   },
   "outputs": [],
   "source": [
    "# Define column types for preprocessing\n",
    "numerical_columns: List[str] = X.select_dtypes(include=['int64', 'float64']).columns.tolist()\n",
    "categorical_columns: List[str] = X.select_dtypes(include=['object', 'category']).columns.tolist()"
   ]
  },
  {
   "cell_type": "code",
   "execution_count": 74,
   "id": "818f004006eef89b",
   "metadata": {
    "ExecuteTime": {
     "end_time": "2024-09-21T11:27:56.142164Z",
     "start_time": "2024-09-21T11:27:56.124002Z"
    }
   },
   "outputs": [
    {
     "data": {
      "text/plain": [
       "rain_tomorrow\n",
       "No     0.764951\n",
       "Yes    0.235049\n",
       "Name: proportion, dtype: float64"
      ]
     },
     "execution_count": 74,
     "metadata": {},
     "output_type": "execute_result"
    }
   ],
   "source": [
    "# Display class distribution\n",
    "y.value_counts(normalize=True)"
   ]
  },
  {
   "cell_type": "code",
   "execution_count": 75,
   "id": "7c58dd26fc0560b9",
   "metadata": {
    "ExecuteTime": {
     "end_time": "2024-09-21T11:27:56.244140Z",
     "start_time": "2024-09-21T11:27:56.235540Z"
    }
   },
   "outputs": [],
   "source": [
    "# Encode target variable\n",
    "target_le = LabelEncoder()\n",
    "y = target_le.fit_transform(y)"
   ]
  },
  {
   "cell_type": "code",
   "execution_count": 76,
   "id": "15cfcd5af1bb70ee",
   "metadata": {
    "ExecuteTime": {
     "end_time": "2024-09-21T11:27:56.291770Z",
     "start_time": "2024-09-21T11:27:56.288931Z"
    }
   },
   "outputs": [],
   "source": [
    "# Define models to compare\n",
    "models: Dict[str, BaseEstimator] = {\n",
    "    'Logistic Regression': LogisticRegression(random_state=42),\n",
    "    'Decision Tree': DecisionTreeClassifier(random_state=42),\n",
    "    'Random Forest': RandomForestClassifier(random_state=42)\n",
    "}"
   ]
  },
  {
   "cell_type": "code",
   "execution_count": 77,
   "id": "7f78e95d546a7d32",
   "metadata": {
    "ExecuteTime": {
     "end_time": "2024-09-21T11:27:56.338451Z",
     "start_time": "2024-09-21T11:27:56.333735Z"
    }
   },
   "outputs": [],
   "source": [
    "param_grids = {\n",
    "    'Logistic Regression': {\n",
    "        'model__C': loguniform(1e-5, 100),\n",
    "        'model__penalty': ['l2'],\n",
    "        'model__solver': ['lbfgs'],\n",
    "        'model__max_iter': [1000, 2000, 5000]\n",
    "    },\n",
    "    'Decision Tree': {\n",
    "        'model__max_depth': [3, 5, 7, 9, None],\n",
    "        'model__min_samples_split': randint(2, 20),\n",
    "        'model__min_samples_leaf': randint(1, 20)\n",
    "    },\n",
    "    'Random Forest': {\n",
    "        'model__n_estimators': randint(10, 200),\n",
    "        'model__max_depth': [3, 5, 7, 9, None],\n",
    "        'model__min_samples_split': randint(2, 20),\n",
    "        'model__min_samples_leaf': randint(1, 20)\n",
    "    }\n",
    "}"
   ]
  },
  {
   "cell_type": "code",
   "execution_count": 78,
   "id": "6c9b49f631c0d296",
   "metadata": {
    "ExecuteTime": {
     "end_time": "2024-09-21T11:27:56.452876Z",
     "start_time": "2024-09-21T11:27:56.446538Z"
    }
   },
   "outputs": [],
   "source": [
    "# Create preprocessor\n",
    "preprocessor = create_preprocessor(numerical_columns, categorical_columns)"
   ]
  },
  {
   "cell_type": "code",
   "execution_count": 79,
   "id": "c96453cf7f31e1e4",
   "metadata": {
    "ExecuteTime": {
     "end_time": "2024-09-21T11:28:36.232067Z",
     "start_time": "2024-09-21T11:27:56.568313Z"
    }
   },
   "outputs": [],
   "source": [
    "results = compare_models(models, X, y, preprocessor, param_grids, n_iter=20, cv=5)"
   ]
  },
  {
   "cell_type": "code",
   "execution_count": 80,
   "id": "41c913bdc454ca55",
   "metadata": {
    "ExecuteTime": {
     "end_time": "2024-09-21T11:28:36.363930Z",
     "start_time": "2024-09-21T11:28:36.358198Z"
    }
   },
   "outputs": [
    {
     "name": "stdout",
     "output_type": "stream",
     "text": [
      "\n",
      "Logistic Regression_no oversampling:\n",
      "\t\taccuracy: 0.8438\n",
      "\t\tprecision: 0.8353\n",
      "\t\trecall: 0.8438\n",
      "\t\tf1-score: 0.8359\n",
      "\tBest parameters: {'model__C': 57.46775499181863, 'model__max_iter': 2000, 'model__penalty': 'l2', 'model__solver': 'lbfgs'}\n",
      "\n",
      "Logistic Regression_with oversampling:\n",
      "\t\taccuracy: 0.7980\n",
      "\t\tprecision: 0.8305\n",
      "\t\trecall: 0.7980\n",
      "\t\tf1-score: 0.8078\n",
      "\tBest parameters: {'model__C': 0.006295450333384249, 'model__max_iter': 5000, 'model__penalty': 'l2', 'model__solver': 'lbfgs'}\n",
      "\n",
      "Decision Tree_no oversampling:\n",
      "\t\taccuracy: 0.8151\n",
      "\t\tprecision: 0.8087\n",
      "\t\trecall: 0.8151\n",
      "\t\tf1-score: 0.8112\n",
      "\tBest parameters: {'model__max_depth': None, 'model__min_samples_leaf': 19, 'model__min_samples_split': 8}\n",
      "\n",
      "Decision Tree_with oversampling:\n",
      "\t\taccuracy: 0.7497\n",
      "\t\tprecision: 0.8118\n",
      "\t\trecall: 0.7497\n",
      "\t\tf1-score: 0.7660\n",
      "\tBest parameters: {'model__max_depth': 5, 'model__min_samples_leaf': 4, 'model__min_samples_split': 19}\n",
      "\n",
      "Random Forest_no oversampling:\n",
      "\t\taccuracy: 0.8413\n",
      "\t\tprecision: 0.8327\n",
      "\t\trecall: 0.8413\n",
      "\t\tf1-score: 0.8278\n",
      "\tBest parameters: {'model__max_depth': None, 'model__min_samples_leaf': 4, 'model__min_samples_split': 9, 'model__n_estimators': 161}\n",
      "\n",
      "Random Forest_with oversampling:\n",
      "\t\taccuracy: 0.8360\n",
      "\t\tprecision: 0.8379\n",
      "\t\trecall: 0.8360\n",
      "\t\tf1-score: 0.8369\n",
      "\tBest parameters: {'model__max_depth': None, 'model__min_samples_leaf': 4, 'model__min_samples_split': 9, 'model__n_estimators': 161}\n"
     ]
    }
   ],
   "source": [
    "for name, metrics in results.items():\n",
    "    print(f\"\\n{name}:\")\n",
    "    for metric, value in metrics.items():\n",
    "        if metric == 'best_params':\n",
    "            print(f\"\\tBest parameters: {value}\")\n",
    "        else:\n",
    "            print(f\"\\t\\t{metric}: {value:.4f}\")"
   ]
  },
  {
   "cell_type": "code",
   "execution_count": null,
   "id": "5fc57aae00706827",
   "metadata": {},
   "outputs": [],
   "source": [
    "# Visualize model comparison\n",
    "def plot_model_comparison(results: Dict[str, Dict[str, Any]], metric: str = 'f1-score') -> None:\n",
    "    models = list(results.keys())\n",
    "    scores = [results[model][metric] for model in models]\n",
    "    \n",
    "    plt.figure(figsize=(12, 6))\n",
    "    sns.barplot(x=models, y=scores)\n",
    "    plt.title(f'Model Comparison - {metric}')\n",
    "    plt.ylabel(metric.capitalize())\n",
    "    plt.xticks(rotation=45, ha='right')\n",
    "    plt.tight_layout()\n",
    "    plt.show()\n",
    "    \n",
    "plot_model_comparison(results)"
   ]
  },
  {
   "cell_type": "code",
   "execution_count": 82,
   "id": "dcb2964cd308fa09",
   "metadata": {
    "ExecuteTime": {
     "end_time": "2024-09-21T11:28:36.977672Z",
     "start_time": "2024-09-21T11:28:36.973904Z"
    }
   },
   "outputs": [
    {
     "name": "stdout",
     "output_type": "stream",
     "text": [
      "Best overall model: Random Forest_with oversampling\n",
      "Best F1-score: 0.8369\n",
      "Best parameters: {'model__max_depth': None, 'model__min_samples_leaf': 4, 'model__min_samples_split': 9, 'model__n_estimators': 161}\n"
     ]
    }
   ],
   "source": [
    "best_model_name = max(results, key=lambda x: results[x]['f1-score'])\n",
    "best_f1_score = results[best_model_name]['f1-score']\n",
    "best_params = results[best_model_name]['best_params']\n",
    "\n",
    "print(f\"Best overall model: {best_model_name}\")\n",
    "print(f\"Best F1-score: {best_f1_score:.4f}\")\n",
    "print(f\"Best parameters: {best_params}\")"
   ]
  },
  {
   "cell_type": "code",
   "execution_count": 83,
   "id": "96063860f6fa9468",
   "metadata": {
    "ExecuteTime": {
     "end_time": "2024-09-21T11:28:39.667600Z",
     "start_time": "2024-09-21T11:28:37.089430Z"
    }
   },
   "outputs": [],
   "source": [
    "def train_best_model(best_model_name: str, X: pd.DataFrame, y: pd.Series) -> BaseEstimator:\n",
    "    model_class = type(models[best_model_name.split('_')[0]])\n",
    "    \n",
    "    cleaned_params = {k.replace('model__', ''): v for k, v in best_params.items()}\n",
    "    \n",
    "    best_model = model_class(**cleaned_params)\n",
    "    \n",
    "    if 'with oversampling' in best_model_name:\n",
    "        pipeline = create_model_pipeline(best_model, preprocessor, oversample=True)\n",
    "    else:\n",
    "        pipeline = create_model_pipeline(best_model, preprocessor, oversample=False)\n",
    "    \n",
    "    pipeline.fit(X, y)\n",
    "    return pipeline\n",
    "\n",
    "best_model_name = max(results, key=lambda x: results[x]['f1-score'])\n",
    "best_params = results[best_model_name]['best_params']\n",
    "best_model = train_best_model(best_model_name, X, y)"
   ]
  },
  {
   "cell_type": "code",
   "execution_count": 84,
   "id": "1ac9bc7db96396f2",
   "metadata": {
    "ExecuteTime": {
     "end_time": "2024-09-21T11:28:39.754659Z",
     "start_time": "2024-09-21T11:28:39.717663Z"
    }
   },
   "outputs": [
    {
     "name": "stdout",
     "output_type": "stream",
     "text": [
      "Target label saved to /Users/tanguyboulard/Programmation/DataScientest-project-DEC23/model/label_encoder.joblib\n",
      "Best model saved to /Users/tanguyboulard/Programmation/DataScientest-project-DEC23/model/weather_model.joblib\n"
     ]
    }
   ],
   "source": [
    "label_filename = os.path.join(root_path, \"model\", \"label_encoder.joblib\")\n",
    "joblib.dump(target_le, label_filename)\n",
    "print(f\"Target label saved to {label_filename}\")\n",
    "\n",
    "model_filename = os.path.join(root_path, \"model\", \"weather_model.joblib\")\n",
    "joblib.dump(best_model, model_filename)\n",
    "print(f\"Best model saved to {model_filename}\")"
   ]
  },
  {
   "cell_type": "code",
   "execution_count": 85,
   "id": "f62628bd1b443936",
   "metadata": {
    "ExecuteTime": {
     "end_time": "2024-09-21T11:28:39.762568Z",
     "start_time": "2024-09-21T11:28:39.760406Z"
    }
   },
   "outputs": [],
   "source": [
    "def predict_rain_tomorrow(model: BaseEstimator, input_data: Dict[str, Any], label_encoder: LabelEncoder) -> str:\n",
    "    input_df = pd.DataFrame([input_data])\n",
    "    prediction = model.predict(input_df)\n",
    "    return label_encoder.inverse_transform(prediction)[0]"
   ]
  },
  {
   "cell_type": "code",
   "execution_count": 86,
   "id": "6b78b010150b7696",
   "metadata": {
    "ExecuteTime": {
     "end_time": "2024-09-21T11:28:39.834548Z",
     "start_time": "2024-09-21T11:28:39.825898Z"
    }
   },
   "outputs": [
    {
     "data": {
      "text/plain": [
       "'No'"
      ]
     },
     "execution_count": 86,
     "metadata": {},
     "output_type": "execute_result"
    }
   ],
   "source": [
    "# Example input data\n",
    "example_input = {\n",
    "    'location': 'Sydney',\n",
    "    'min_temp': 15.0,\n",
    "    'max_temp': 25.0,\n",
    "    'rainfall': 0.0,\n",
    "    'evaporation': 4.8,\n",
    "    'sunshine': 8.5,\n",
    "    'wind_gust_dir': 'SE',\n",
    "    'wind_gust_speed': 30,\n",
    "    'wind_dir_9am': 'E',\n",
    "    'wind_dir_3pm': 'SE',\n",
    "    'wind_speed_9am': 10,\n",
    "    'wind_speed_3pm': 15,\n",
    "    'humidity_9am': 70,\n",
    "    'humidity_3pm': 55,\n",
    "    'pressure_9am': 1015.0,\n",
    "    'pressure_3pm': 1013.0,\n",
    "    'cloud_9am': 3,\n",
    "    'cloud_3pm': 4,\n",
    "    'temp_9am': 18.0,\n",
    "    'temp_3pm': 23.5,\n",
    "    'rain_today': 'No'\n",
    "}\n",
    "\n",
    "predict_rain_tomorrow(best_model, example_input, target_le)"
   ]
  }
 ],
 "metadata": {
  "kernelspec": {
   "display_name": "Python 3",
   "language": "python",
   "name": "python3"
  },
  "language_info": {
   "codemirror_mode": {
    "name": "ipython",
    "version": 3
   },
   "file_extension": ".py",
   "mimetype": "text/x-python",
   "name": "python",
   "nbconvert_exporter": "python",
   "pygments_lexer": "ipython3",
   "version": "3.8.10"
  }
 },
 "nbformat": 4,
 "nbformat_minor": 5
}
