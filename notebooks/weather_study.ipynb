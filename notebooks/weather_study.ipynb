{
 "cells": [
  {
   "cell_type": "code",
   "id": "initial_id",
   "metadata": {
    "collapsed": true,
    "ExecuteTime": {
     "end_time": "2024-06-11T15:01:32.700250Z",
     "start_time": "2024-06-11T15:01:32.487524Z"
    }
   },
   "source": [
    "import os\n",
    "from pathlib import Path\n",
    "import pandas as pd\n",
    "\n",
    "root_path = Path().resolve().parent"
   ],
   "outputs": [],
   "execution_count": 8
  },
  {
   "cell_type": "code",
   "id": "6fc56d14343570e9",
   "metadata": {
    "ExecuteTime": {
     "end_time": "2024-06-11T15:01:33.164976Z",
     "start_time": "2024-06-11T15:01:32.767776Z"
    }
   },
   "source": "df = pd.read_csv(os.path.join(root_path, 'data', 'csv', 'weather_study.csv'))",
   "outputs": [],
   "execution_count": 9
  }
 ],
 "metadata": {
  "kernelspec": {
   "display_name": "Python 3",
   "language": "python",
   "name": "python3"
  },
  "language_info": {
   "codemirror_mode": {
    "name": "ipython",
    "version": 3
   },
   "file_extension": ".py",
   "mimetype": "text/x-python",
   "name": "python",
   "nbconvert_exporter": "python",
   "pygments_lexer": "ipython3",
   "version": "3.11.6"
  }
 },
 "nbformat": 4,
 "nbformat_minor": 5
}
