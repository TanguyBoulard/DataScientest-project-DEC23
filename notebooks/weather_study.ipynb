{
 "cells": [
  {
   "cell_type": "code",
   "id": "initial_id",
   "metadata": {
    "collapsed": true
   },
   "source": [
    "import os\n",
    "from pathlib import Path\n",
    "import pandas as pd\n",
    "\n",
    "dir_path = Path().resolve().parent"
   ],
   "outputs": [],
   "execution_count": null
  },
  {
   "metadata": {},
   "cell_type": "code",
   "source": [
    "df_csv = pd.read_csv(os.path.join(dir_path, 'dataCsv', 'weather_study.csv'))\n",
    "print(df_csv.shape)\n",
    "df_csv.head()"
   ],
   "id": "c0457722b12f44fb",
   "outputs": [],
   "execution_count": null
  },
  {
   "metadata": {},
   "cell_type": "code",
   "source": [
    "df_parquet = pd.read_parquet(os.path.join(dir_path, 'dataParquet', 'weather_study.parquet'))\n",
    "print(df_parquet.shape)\n",
    "df_parquet.head()"
   ],
   "id": "6fc56d14343570e9",
   "outputs": [],
   "execution_count": null
  }
 ],
 "metadata": {
  "kernelspec": {
   "display_name": "Python 3",
   "language": "python",
   "name": "python3"
  },
  "language_info": {
   "codemirror_mode": {
    "name": "ipython",
    "version": 2
   },
   "file_extension": ".py",
   "mimetype": "text/x-python",
   "name": "python",
   "nbconvert_exporter": "python",
   "pygments_lexer": "ipython2",
   "version": "2.7.6"
  }
 },
 "nbformat": 4,
 "nbformat_minor": 5
}
