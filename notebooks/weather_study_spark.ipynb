{
 "cells": [
  {
   "cell_type": "code",
   "execution_count": null,
   "id": "initial_id",
   "metadata": {
    "ExecuteTime": {
     "end_time": "2024-05-31T17:57:05.816302Z",
     "start_time": "2024-05-31T17:57:05.618389Z"
    },
    "collapsed": true
   },
   "outputs": [],
   "source": [
    "import os\n",
    "from dotenv import load_dotenv\n",
    "\n",
    "from pyspark.sql import SparkSession\n",
    "from pyspark.sql.functions import col, when\n",
    "\n",
    "load_dotenv()\n",
    "\n",
    "user = os.getenv('PG_USER')\n",
    "password = os.getenv('PG_PASSWORD')\n",
    "host = os.getenv('PG_HOST', 'localhost')\n",
    "port = os.getenv('PG_PORT', '5432')\n",
    "dbname = os.getenv('POSTGRES_DB')"
   ]
  },
  {
   "cell_type": "code",
   "execution_count": null,
   "id": "e8b3a259d49a670d",
   "metadata": {
    "ExecuteTime": {
     "end_time": "2024-05-31T17:57:09.272123Z",
     "start_time": "2024-05-31T17:57:05.817970Z"
    }
   },
   "outputs": [],
   "source": [
    "spark = SparkSession.builder \\\n",
    "    .appName(\"Weather Study\") \\\n",
    "    .config(\"spark.jars.packages\", \"org.postgresql:postgresql:42.2.23\") \\\n",
    "    .getOrCreate()\n",
    "\n",
    "url = f\"jdbc:postgresql://{host}:{port}/{dbname}\"\n",
    "properties = {\n",
    "    \"user\": user,\n",
    "    \"password\": password,\n",
    "    \"driver\": \"org.postgresql.Driver\"\n",
    "}"
   ]
  },
  {
   "cell_type": "code",
   "execution_count": null,
   "id": "5183bc9e9a4b9921",
   "metadata": {
    "ExecuteTime": {
     "end_time": "2024-05-31T17:57:12.238752Z",
     "start_time": "2024-05-31T17:57:09.273261Z"
    }
   },
   "outputs": [],
   "source": [
    "query = \"\"\"\n",
    "    SELECT weather.* \n",
    "    FROM weather \n",
    "    JOIN city ON weather.city_id = city.id \n",
    "    WHERE city.name = 'Canberra'\n",
    "\"\"\"\n",
    "df = spark.read.jdbc(url=url, table=f\"({query}) as weather_data\", properties=properties)\n",
    "df.show()"
   ]
  },
  {
   "cell_type": "code",
   "execution_count": null,
   "id": "7c313f0b4320cb7b",
   "metadata": {
    "ExecuteTime": {
     "end_time": "2024-05-31T17:57:12.499933Z",
     "start_time": "2024-05-31T17:57:12.240143Z"
    }
   },
   "outputs": [],
   "source": [
    "df = df.withColumn('RainToday', when(col('Rainfall') > 0, 'Yes').otherwise('No'))\n",
    "df.show()"
   ]
  }
 ],
 "metadata": {
  "kernelspec": {
   "display_name": "Python 3",
   "language": "python",
   "name": "python3"
  },
  "language_info": {
   "codemirror_mode": {
    "name": "ipython",
    "version": 2
   },
   "file_extension": ".py",
   "mimetype": "text/x-python",
   "name": "python",
   "nbconvert_exporter": "python",
   "pygments_lexer": "ipython2",
   "version": "2.7.6"
  }
 },
 "nbformat": 4,
 "nbformat_minor": 5
}
