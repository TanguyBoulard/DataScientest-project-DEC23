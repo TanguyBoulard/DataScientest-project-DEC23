{
 "cells": [
  {
   "metadata": {},
   "cell_type": "code",
   "source": [
    "from dotenv import load_dotenv\n",
    "\n",
    "import pandas as pd\n",
    "\n",
    "from database.postgresql_functools import PostgreSQLManager\n",
    "\n",
    "load_dotenv()"
   ],
   "outputs": [],
   "execution_count": null
  },
  {
   "metadata": {},
   "cell_type": "code",
   "source": "postgres = PostgreSQLManager()",
   "outputs": [],
   "execution_count": null
  },
  {
   "metadata": {},
   "cell_type": "code",
   "source": [
    "query = \"\"\"\n",
    "    SELECT \"Weather\".* \n",
    "    FROM \"Weather\" \n",
    "    JOIN \"City\" ON \"Weather\".\"City_id\" = \"City\".id \n",
    "    WHERE \"City\".\"Name\" = 'Canberra'\n",
    "\"\"\"\n",
    "df = pd.read_sql_query(query, postgres.engine)\n",
    "df.head()"
   ],
   "outputs": [],
   "execution_count": null
  },
  {
   "metadata": {},
   "cell_type": "code",
   "source": [
    "df['RainToday'] = df['Rainfall'].apply(lambda x: 'Yes' if x > 0 else 'No')\n",
    "df.head()"
   ],
   "outputs": [],
   "execution_count": null
  }
 ],
 "metadata": {
  "kernelspec": {
   "display_name": ".venv",
   "language": "python",
   "name": "python3"
  },
  "language_info": {
   "codemirror_mode": {
    "name": "ipython",
    "version": 3
   },
   "file_extension": ".py",
   "mimetype": "text/x-python",
   "name": "python",
   "nbconvert_exporter": "python",
   "pygments_lexer": "ipython3",
   "version": "3.11.6"
  }
 },
 "nbformat": 4,
 "nbformat_minor": 2
}
