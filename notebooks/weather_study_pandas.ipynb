{
 "cells": [
  {
   "cell_type": "code",
   "metadata": {},
   "source": [
    "from dotenv import load_dotenv\n",
    "\n",
    "import pandas as pd\n",
    "\n",
    "from database.postgresql_functools import PostgreSQLManager\n",
    "\n",
    "load_dotenv()"
   ],
   "outputs": [],
   "execution_count": null
  },
  {
   "cell_type": "code",
   "metadata": {},
   "source": [
    "postgres = PostgreSQLManager()"
   ],
   "outputs": [],
   "execution_count": null
  },
  {
   "cell_type": "code",
   "metadata": {},
   "source": [
    "query = \"\"\"\n",
    "    SELECT \n",
    "        EXTRACT(YEAR FROM daily_weather.date) || '-' || EXTRACT(MONTH FROM daily_weather.date) || '-' || EXTRACT(DAY FROM daily_weather.date) AS \"Date\",\n",
    "        city.name AS \"Location\",\n",
    "        daily_weather.min_temp AS \"MinTemp\",\n",
    "        daily_weather.max_temp AS \"MaxTemp\",\n",
    "        daily_weather.rainfall AS \"Rainfall\",\n",
    "        daily_weather.cloudiness AS \"Cloudiness\",\n",
    "        daily_weather.pressure AS \"Pressure\",\n",
    "        daily_weather.humidity AS \"Humidity\",\n",
    "        daily_weather.wind_gust_speed AS \"WindSpeed\",\n",
    "        daily_weather.wind_gust_dir AS \"WindDir\"\n",
    "    FROM \n",
    "        daily_weather\n",
    "    JOIN \n",
    "        city ON daily_weather.city_id = city.id\n",
    "    ORDER BY \n",
    "        city.name, daily_weather.date\n",
    "\"\"\"\n",
    "df_daily = pd.read_sql_query(query, postgres.engine)\n",
    "df_daily = df_daily.drop_duplicates(subset=['Date', 'Location'])\n",
    "df_daily['Evaporation'] = -1\n",
    "df_daily['Sunshine'] = -1\n",
    "df_daily.head()"
   ],
   "outputs": [],
   "execution_count": null
  },
  {
   "cell_type": "code",
   "metadata": {},
   "source": [
    "df_daily['RainToday'] = df_daily['Rainfall'].apply(lambda x: 'Yes' if x >= 1 else 'No')\n",
    "df_daily['RainTomorrow'] = df_daily['RainToday'].shift(-1).apply(lambda x: 'Yes' if x == 'Yes' else 'No')\n",
    "df_daily.head()"
   ],
   "outputs": [],
   "execution_count": null
  },
  {
   "metadata": {},
   "cell_type": "code",
   "source": [
    "query = \"\"\"\n",
    "    SELECT \n",
    "        EXTRACT(YEAR FROM weather.date) || '-' || EXTRACT(MONTH FROM weather.date) || '-' || EXTRACT(DAY FROM weather.date) AS \"Date\",\n",
    "        city.name AS \"Location\",\n",
    "        weather.temp AS \"Temp9am\",\n",
    "        weather.cloudiness AS \"Cloud9am\",\n",
    "        weather.pressure AS \"Pressure9am\",\n",
    "        weather.humidity AS \"Humidity9am\",\n",
    "        weather.wind_gust_speed AS \"WindSpeed9am\",\n",
    "        weather.wind_gust_dir AS \"WindDir9am\"\n",
    "    FROM \n",
    "        weather\n",
    "    JOIN \n",
    "        city ON weather.city_id = city.id\n",
    "    WHERE \n",
    "        EXTRACT(HOUR FROM weather.date) = 17\n",
    "    ORDER BY \n",
    "        city.name, weather.date\n",
    "\"\"\"\n",
    "df_9am = pd.read_sql_query(query, postgres.engine)\n",
    "df_9am = df_9am.drop_duplicates(subset=['Date', 'Location'])\n",
    "print(df_9am.shape)\n",
    "df_9am"
   ],
   "outputs": [],
   "execution_count": null
  },
  {
   "metadata": {},
   "cell_type": "code",
   "source": [
    "query = \"\"\"\n",
    "    SELECT \n",
    "        EXTRACT(YEAR FROM weather.date) || '-' || EXTRACT(MONTH FROM weather.date) || '-' || EXTRACT(DAY FROM weather.date) AS \"Date\",\n",
    "        city.name AS \"Location\",\n",
    "        weather.temp AS \"Temp3pm\",\n",
    "        weather.cloudiness AS \"Cloud3pm\",\n",
    "        weather.pressure AS \"Pressure3pm\",\n",
    "        weather.humidity AS \"Humidity3pm\",\n",
    "        weather.wind_gust_speed AS \"WindSpeed3pm\",\n",
    "        weather.wind_gust_dir AS \"WindDir3pm\"\n",
    "    FROM \n",
    "        weather\n",
    "    JOIN \n",
    "        city ON weather.city_id = city.id\n",
    "    WHERE \n",
    "        EXTRACT(HOUR FROM weather.date) = 23\n",
    "    ORDER BY \n",
    "        city.name, weather.date\n",
    "\"\"\"\n",
    "df_3pm = pd.read_sql_query(query, postgres.engine)\n",
    "df_3pm = df_3pm.drop_duplicates(subset=['Date', 'Location'])\n",
    "print(df_3pm.shape)\n",
    "df_3pm"
   ],
   "outputs": [],
   "execution_count": null
  },
  {
   "metadata": {},
   "cell_type": "code",
   "source": [
    "df_3_9 = pd.merge(df_9am, df_3pm, on=['Date', 'Location'])\n",
    "print(df_3_9.shape)\n",
    "df_3_9"
   ],
   "outputs": [],
   "execution_count": null
  },
  {
   "metadata": {},
   "cell_type": "code",
   "source": [
    "df_open = pd.merge(df_daily, df_3_9, on=['Date', 'Location'])\n",
    "print(df_open.shape)\n",
    "df_open"
   ],
   "outputs": [],
   "execution_count": null
  },
  {
   "metadata": {},
   "cell_type": "code",
   "source": [
    "query = \"\"\"\n",
    "    SELECT \n",
    "        EXTRACT(YEAR FROM date) || '-' || EXTRACT(MONTH FROM date) || '-' || EXTRACT(DAY FROM date) AS \"Date\",\n",
    "        location AS \"Location\",\n",
    "        min_temp AS \"MinTemp\",\n",
    "        max_temp AS \"MaxTemp\",\n",
    "        rainfall AS \"Rainfall\",\n",
    "        evaporation AS \"Evaporation\",\n",
    "        sunshine AS \"Sunshine\",\n",
    "        wind_gust_dir AS \"WindDir\",\n",
    "        wind_gust_speed AS \"WindSpeed\",\n",
    "        temp_9am AS \"Temp9am\",\n",
    "        humidity_9am AS \"Humidity9am\",\n",
    "        cloud_9am AS \"Cloud9am\",\n",
    "        wind_dir_9am AS \"WindDir9am\",\n",
    "        wind_speed_9am AS \"WindSpeed9am\",\n",
    "        pressure_9am AS \"Pressure9am\",\n",
    "        temp_3pm AS \"Temp3pm\",\n",
    "        humidity_3pm AS \"Humidity3pm\",\n",
    "        cloud_3pm AS \"Cloud3pm\",\n",
    "        wind_dir_3pm AS \"WindDir3pm\",\n",
    "        wind_speed_3pm AS \"WindSpeed3pm\",\n",
    "        pressure_3pm AS \"Pressure3pm\"\n",
    "    FROM \n",
    "        australian_meteorology_weather\n",
    "\"\"\"\n",
    "df_aus = pd.read_sql_query(query, postgres.engine)\n",
    "df_aus['RainToday'] = df_aus['Rainfall'].apply(lambda x: 'Yes' if x >= 1 else 'No')\n",
    "df_aus['RainTomorrow'] = df_aus['RainToday'].shift(-1).apply(lambda x: 'Yes' if x == 'Yes' else 'No')\n",
    "df_aus.head()"
   ],
   "outputs": [],
   "execution_count": null
  },
  {
   "metadata": {},
   "cell_type": "code",
   "execution_count": null,
   "source": "df_open",
   "outputs": []
  },
  {
   "metadata": {},
   "cell_type": "code",
   "execution_count": null,
   "source": "df_aus",
   "outputs": []
  },
  {
   "metadata": {},
   "cell_type": "code",
   "source": [
    "df = pd.concat([df_open, df_aus])\n",
    "df"
   ],
   "outputs": [],
   "execution_count": null
  },
  {
   "metadata": {},
   "cell_type": "code",
   "source": "df.to_csv('weather_study.csv', index=False)",
   "outputs": [],
   "execution_count": null
  }
 ],
 "metadata": {
  "kernelspec": {
   "display_name": ".venv",
   "language": "python",
   "name": "python3"
  },
  "language_info": {
   "codemirror_mode": {
    "name": "ipython",
    "version": 3
   },
   "file_extension": ".py",
   "mimetype": "text/x-python",
   "name": "python",
   "nbconvert_exporter": "python",
   "pygments_lexer": "ipython3",
   "version": "3.11.6"
  }
 },
 "nbformat": 4,
 "nbformat_minor": 2
}
