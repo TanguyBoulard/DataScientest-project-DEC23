{
 "cells": [
  {
   "cell_type": "code",
   "execution_count": 4,
   "metadata": {},
   "outputs": [],
   "source": [
    "import pandas as pd\n",
    "from openweather_api import *"
   ]
  },
  {
   "cell_type": "code",
   "execution_count": 7,
   "metadata": {},
   "outputs": [],
   "source": [
    "config = load_config()\n",
    "API_key = config['open_wheather_api']['key']\n",
    "locations = ['Canberra', 'Tuggeranong']\n",
    "country_code = 'AU'\n",
    "limit = 5\n",
    "data = []\n",
    "\n",
    "for city_name in locations:\n",
    "    city_info = fetch_api_data(build_city_info_url(city_name, limit, API_key))\n",
    "    #store_to_json(city_info, 'CityInfo.json')\n",
    "\n",
    "    latitudes, longitudes = extract_lat_lon(city_info, country_code)\n",
    "    air_pollution_info = fetch_weather_info_for_coordinates('previous_air_pollution', latitudes, longitudes, API_key, start=1606435200, end=1709485840)\n",
    "    store_to_json(air_pollution_info, 'PreviousAirPollutionInfo.json')\n",
    "\n",
    "    for i in range(len(air_pollution_info)):\n",
    "        for j in range(len(air_pollution_info[i]['list'])):\n",
    "            data.append({\n",
    "                'Date': build_date_timestamp(air_pollution_info[i]['list'][j]['dt'], timezone=0, mode='date'),\n",
    "                'Location': city_name,\n",
    "                'AirQualityIndex': air_pollution_info[i]['list'][j]['main']['aqi'],\n",
    "                'COСoncentration': air_pollution_info[i]['list'][j]['components']['co'],\n",
    "                'NOСoncentration': air_pollution_info[i]['list'][j]['components']['no'],\n",
    "                'NO2Сoncentration': air_pollution_info[i]['list'][j]['components']['no2'],\n",
    "                'O3Сoncentration': air_pollution_info[i]['list'][j]['components']['o3'],\n",
    "                'SO2Сoncentration': air_pollution_info[i]['list'][j]['components']['so2'],\n",
    "                'PM25Сoncentration': air_pollution_info[i]['list'][j]['components']['pm2_5'],\n",
    "                'PM10Сoncentration': air_pollution_info[i]['list'][j]['components']['pm10'],\n",
    "                'NH3Сoncentration': air_pollution_info[i]['list'][j]['components']['nh3']\n",
    "                })\n",
    "\n",
    "air_pollution_df = pd.DataFrame(data)\n",
    "air_pollution_df.to_csv('WeatherPreviousAirPollutionAUS.csv')"
   ]
  }
 ],
 "metadata": {
  "kernelspec": {
   "display_name": "venv",
   "language": "python",
   "name": "python3"
  },
  "language_info": {
   "codemirror_mode": {
    "name": "ipython",
    "version": 3
   },
   "file_extension": ".py",
   "mimetype": "text/x-python",
   "name": "python",
   "nbconvert_exporter": "python",
   "pygments_lexer": "ipython3",
   "version": "3.11.6"
  }
 },
 "nbformat": 4,
 "nbformat_minor": 2
}
