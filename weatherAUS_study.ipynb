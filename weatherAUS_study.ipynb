{
 "cells": [
  {
   "cell_type": "code",
   "execution_count": 3,
   "metadata": {},
   "outputs": [],
   "source": [
    "import pandas as pd"
   ]
  },
  {
   "cell_type": "code",
   "execution_count": 4,
   "metadata": {},
   "outputs": [],
   "source": [
    "df_kaggle = pd.read_csv('WeatherKaggleAUS.csv')\n",
    "df_current_weather = pd.read_csv('WeatherOpenWeatherAUS.csv')\n",
    "df_current_air_pollution = pd.read_csv('WeatherAirPollutionAUS.csv')\n",
    "df_air_pollution = pd.read_csv('WeatherPreviousAirPollutionAUS.csv')\n",
    "df_web_scrapped = pd.read_csv('WeatherWebScrappedAUS.csv')"
   ]
  }
 ],
 "metadata": {
  "kernelspec": {
   "display_name": ".venv",
   "language": "python",
   "name": "python3"
  },
  "language_info": {
   "codemirror_mode": {
    "name": "ipython",
    "version": 3
   },
   "file_extension": ".py",
   "mimetype": "text/x-python",
   "name": "python",
   "nbconvert_exporter": "python",
   "pygments_lexer": "ipython3",
   "version": "3.11.6"
  }
 },
 "nbformat": 4,
 "nbformat_minor": 2
}
