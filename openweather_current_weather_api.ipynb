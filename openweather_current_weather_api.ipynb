{
 "cells": [
  {
   "cell_type": "code",
   "execution_count": 9,
   "metadata": {},
   "outputs": [],
   "source": [
    "from dotenv import load_dotenv\n",
    "import os\n",
    "\n",
    "import pandas as pd\n",
    "from openweather_api import *\n",
    "from mongodb_functools import MongoDBManager\n",
    "from postgresql_functools import PostgreSQLManager, OpenWeather"
   ]
  },
  {
   "cell_type": "code",
   "execution_count": 10,
   "metadata": {},
   "outputs": [
    {
     "name": "stdout",
     "output_type": "stream",
     "text": [
      "2024-05-11 12:25:18,483 INFO sqlalchemy.engine.Engine select pg_catalog.version()\n",
      "2024-05-11 12:25:18,484 INFO sqlalchemy.engine.Engine [raw sql] {}\n",
      "2024-05-11 12:25:18,488 INFO sqlalchemy.engine.Engine select current_schema()\n",
      "2024-05-11 12:25:18,488 INFO sqlalchemy.engine.Engine [raw sql] {}\n",
      "2024-05-11 12:25:18,489 INFO sqlalchemy.engine.Engine show standard_conforming_strings\n",
      "2024-05-11 12:25:18,489 INFO sqlalchemy.engine.Engine [raw sql] {}\n",
      "2024-05-11 12:25:18,490 INFO sqlalchemy.engine.Engine BEGIN (implicit)\n",
      "2024-05-11 12:25:18,502 INFO sqlalchemy.engine.Engine SELECT pg_catalog.pg_class.relname \n",
      "FROM pg_catalog.pg_class JOIN pg_catalog.pg_namespace ON pg_catalog.pg_namespace.oid = pg_catalog.pg_class.relnamespace \n",
      "WHERE pg_catalog.pg_class.relname = %(table_name)s AND pg_catalog.pg_class.relkind = ANY (ARRAY[%(param_1)s, %(param_2)s, %(param_3)s, %(param_4)s, %(param_5)s]) AND pg_catalog.pg_table_is_visible(pg_catalog.pg_class.oid) AND pg_catalog.pg_namespace.nspname != %(nspname_1)s\n",
      "2024-05-11 12:25:18,502 INFO sqlalchemy.engine.Engine [generated in 0.00043s] {'table_name': 'OpenWeather', 'param_1': 'r', 'param_2': 'p', 'param_3': 'f', 'param_4': 'v', 'param_5': 'm', 'nspname_1': 'pg_catalog'}\n",
      "2024-05-11 12:25:18,505 INFO sqlalchemy.engine.Engine SELECT pg_catalog.pg_class.relname \n",
      "FROM pg_catalog.pg_class JOIN pg_catalog.pg_namespace ON pg_catalog.pg_namespace.oid = pg_catalog.pg_class.relnamespace \n",
      "WHERE pg_catalog.pg_class.relname = %(table_name)s AND pg_catalog.pg_class.relkind = ANY (ARRAY[%(param_1)s, %(param_2)s, %(param_3)s, %(param_4)s, %(param_5)s]) AND pg_catalog.pg_table_is_visible(pg_catalog.pg_class.oid) AND pg_catalog.pg_namespace.nspname != %(nspname_1)s\n",
      "2024-05-11 12:25:18,505 INFO sqlalchemy.engine.Engine [cached since 0.003728s ago] {'table_name': 'AirPollution', 'param_1': 'r', 'param_2': 'p', 'param_3': 'f', 'param_4': 'v', 'param_5': 'm', 'nspname_1': 'pg_catalog'}\n",
      "2024-05-11 12:25:18,507 INFO sqlalchemy.engine.Engine COMMIT\n"
     ]
    }
   ],
   "source": [
    "mongo_manager = MongoDBManager()\n",
    "postgre_manager = PostgreSQLManager()"
   ]
  },
  {
   "cell_type": "code",
   "execution_count": 11,
   "metadata": {},
   "outputs": [],
   "source": [
    "load_dotenv(override=True)\n",
    "API_key = os.getenv('OPEN_WEATHER_API_KEY')\n",
    "locations = ['Canberra']\n",
    "country_code = 'AU'\n",
    "limit = 5\n",
    "data = []\n",
    "\n",
    "for city_name in locations:\n",
    "    city_info = fetch_api_data(build_city_info_url(city_name, limit, API_key))\n",
    "    store_to_json(city_info, 'CityInfo.json')\n",
    "\n",
    "    latitudes, longitudes = extract_lat_lon(city_info, country_code)\n",
    "    weather_info = fetch_weather_info_for_coordinates(latitudes, longitudes, API_key)\n",
    "    store_to_json(weather_info, 'WeatherInfo.json')\n",
    "\n",
    "    for i in range(len(weather_info)):\n",
    "        data.append({\n",
    "            'Date': build_date_timestamp(weather_info[i]['dt'], weather_info[i]['timezone'], 'date'),\n",
    "            'Location': weather_info[i]['name'],\n",
    "            'MinTemp': weather_info[i]['main']['temp_min'],\n",
    "            'MaxTemp': weather_info[i]['main']['temp_max'],\n",
    "            'Rainfall': get_rain_info(weather_info[i]),\n",
    "            'Sunrise': build_date_timestamp(weather_info[i]['sys']['sunrise'], weather_info[i]['timezone'], 'hours'),\n",
    "            'Sunset': build_date_timestamp(weather_info[i]['sys']['sunset'], weather_info[i]['timezone'], 'hours'),\n",
    "            'WindGustDir': deg_to_cardinal(weather_info[i]['wind']['deg']),\n",
    "            'WindGustSpeed': weather_info[i]['wind']['speed'],\n",
    "            'Cloudiness': weather_info[i]['clouds']['all'],\n",
    "            'Humidity': weather_info[i]['main']['humidity'],\n",
    "            'Pressure': weather_info[i]['main']['pressure']\n",
    "        })\n",
    "\n",
    "weather_df = pd.DataFrame(data)\n",
    "weather_df.to_csv('WeatherOpenWeatherAUS.csv', index=False)"
   ]
  },
  {
   "cell_type": "code",
   "execution_count": 12,
   "metadata": {},
   "outputs": [
    {
     "name": "stdout",
     "output_type": "stream",
     "text": [
      "Inserting document...\n",
      "Document inserted with ID: 663f478f388d3d522fa9dd41\n",
      "Finding document...\n",
      "Document found: {'_id': ObjectId('663f478f388d3d522fa9dd41'), 'name': 'Canberra', 'local_names': {'cu': 'Канбєра', 'el': 'Καμπέρα', 'fr': 'Canberra', 'mn': 'Канберра', 'pl': 'Canberra', 'pt': 'Camberra', 'kn': 'ಕ್ಯಾನ್ಬೆರ', 'ka': 'კანბერა', 'bn': 'ক্যানবেরা', 'mi': 'Kānapera', 'tg': 'Канберра', 'sv': 'Canberra', 'ru': 'Канберра', 'ht': 'Kanbera', 'th': 'แคนเบอร์รา', 'hi': 'कैनबरा', 'si': 'කැන්බරා', 'is': 'Canberra', 'lt': 'Kanbera', 'bg': 'Канбера', 'ko': '캔버라', 'tt': 'Канберра', 'yi': 'קאנבערא', 'uk': 'Канберра', 'en': 'Canberra', 'os': 'Канберрæ', 'so': 'Kanbera', 'ur': 'کینبرا', 'be': 'Канбера', 'zh': '堪培拉', 'sr': 'Канбера', 'mr': 'कॅनबेरा', 'ja': 'キャンベラ', 'de': 'Canberra', 'ky': 'Канберра', 'cv': 'Канберра', 'lv': 'Kanbera', 'oc': 'Canberra', 'hy': 'Կանբեռա', 'am': 'ካንበራ', 'mk': 'Канбера', 'es': 'Canberra', 'ku': 'Kanberra', 'fy': 'Kanberra', 'hu': 'Canberra', 'ar': 'كانبرا', 'ug': 'Kanbérra', 'fa': 'کانبرا', 'bo': 'ཁན་པེ་ར།', 'ta': 'கான்பரா', 'az': 'Kanberra', 'eo': 'Kanbero', 'he': 'קנברה'}, 'lat': -35.2975906, 'lon': 149.1012676, 'country': 'AU'}\n"
     ]
    },
    {
     "data": {
      "text/plain": [
       "{'_id': ObjectId('663f478f388d3d522fa9dd41'),\n",
       " 'name': 'Canberra',\n",
       " 'local_names': {'cu': 'Канбєра',\n",
       "  'el': 'Καμπέρα',\n",
       "  'fr': 'Canberra',\n",
       "  'mn': 'Канберра',\n",
       "  'pl': 'Canberra',\n",
       "  'pt': 'Camberra',\n",
       "  'kn': 'ಕ್ಯಾನ್ಬೆರ',\n",
       "  'ka': 'კანბერა',\n",
       "  'bn': 'ক্যানবেরা',\n",
       "  'mi': 'Kānapera',\n",
       "  'tg': 'Канберра',\n",
       "  'sv': 'Canberra',\n",
       "  'ru': 'Канберра',\n",
       "  'ht': 'Kanbera',\n",
       "  'th': 'แคนเบอร์รา',\n",
       "  'hi': 'कैनबरा',\n",
       "  'si': 'කැන්බරා',\n",
       "  'is': 'Canberra',\n",
       "  'lt': 'Kanbera',\n",
       "  'bg': 'Канбера',\n",
       "  'ko': '캔버라',\n",
       "  'tt': 'Канберра',\n",
       "  'yi': 'קאנבערא',\n",
       "  'uk': 'Канберра',\n",
       "  'en': 'Canberra',\n",
       "  'os': 'Канберрæ',\n",
       "  'so': 'Kanbera',\n",
       "  'ur': 'کینبرا',\n",
       "  'be': 'Канбера',\n",
       "  'zh': '堪培拉',\n",
       "  'sr': 'Канбера',\n",
       "  'mr': 'कॅनबेरा',\n",
       "  'ja': 'キャンベラ',\n",
       "  'de': 'Canberra',\n",
       "  'ky': 'Канберра',\n",
       "  'cv': 'Канберра',\n",
       "  'lv': 'Kanbera',\n",
       "  'oc': 'Canberra',\n",
       "  'hy': 'Կանբեռա',\n",
       "  'am': 'ካንበራ',\n",
       "  'mk': 'Канбера',\n",
       "  'es': 'Canberra',\n",
       "  'ku': 'Kanberra',\n",
       "  'fy': 'Kanberra',\n",
       "  'hu': 'Canberra',\n",
       "  'ar': 'كانبرا',\n",
       "  'ug': 'Kanbérra',\n",
       "  'fa': 'کانبرا',\n",
       "  'bo': 'ཁན་པེ་ར།',\n",
       "  'ta': 'கான்பரா',\n",
       "  'az': 'Kanberra',\n",
       "  'eo': 'Kanbero',\n",
       "  'he': 'קנברה'},\n",
       " 'lat': -35.2975906,\n",
       " 'lon': 149.1012676,\n",
       " 'country': 'AU'}"
      ]
     },
     "execution_count": 12,
     "metadata": {},
     "output_type": "execute_result"
    }
   ],
   "source": [
    "document = city_info[0]\n",
    "mongo_manager.insert_document('city', document, verbose=True)\n",
    "mongo_manager.find_document('city', {'name': 'Canberra'}, verbose=True)"
   ]
  },
  {
   "cell_type": "code",
   "execution_count": 13,
   "metadata": {},
   "outputs": [
    {
     "name": "stdout",
     "output_type": "stream",
     "text": [
      "Inserting document...\n",
      "Document inserted with ID: 663f478f388d3d522fa9dd42\n",
      "Finding document...\n",
      "Document found: {'_id': ObjectId('663f478f388d3d522fa9dd42'), 'coord': {'lon': 149.1013, 'lat': -35.2976}, 'weather': [{'id': 500, 'main': 'Rain', 'description': 'light rain', 'icon': '10n'}], 'base': 'stations', 'main': {'temp': 11.58, 'feels_like': 11.22, 'temp_min': 10.14, 'temp_max': 13.05, 'pressure': 1026, 'humidity': 93}, 'visibility': 9000, 'wind': {'speed': 2.57, 'deg': 130}, 'rain': {'1h': 0.65}, 'clouds': {'all': 75}, 'dt': 1715423119, 'sys': {'type': 2, 'id': 2093792, 'country': 'AU', 'sunrise': 1715374108, 'sunset': 1715411494}, 'timezone': 36000, 'id': 2172517, 'name': 'Canberra', 'cod': 200}\n"
     ]
    },
    {
     "data": {
      "text/plain": [
       "{'_id': ObjectId('663f478f388d3d522fa9dd42'),\n",
       " 'coord': {'lon': 149.1013, 'lat': -35.2976},\n",
       " 'weather': [{'id': 500,\n",
       "   'main': 'Rain',\n",
       "   'description': 'light rain',\n",
       "   'icon': '10n'}],\n",
       " 'base': 'stations',\n",
       " 'main': {'temp': 11.58,\n",
       "  'feels_like': 11.22,\n",
       "  'temp_min': 10.14,\n",
       "  'temp_max': 13.05,\n",
       "  'pressure': 1026,\n",
       "  'humidity': 93},\n",
       " 'visibility': 9000,\n",
       " 'wind': {'speed': 2.57, 'deg': 130},\n",
       " 'rain': {'1h': 0.65},\n",
       " 'clouds': {'all': 75},\n",
       " 'dt': 1715423119,\n",
       " 'sys': {'type': 2,\n",
       "  'id': 2093792,\n",
       "  'country': 'AU',\n",
       "  'sunrise': 1715374108,\n",
       "  'sunset': 1715411494},\n",
       " 'timezone': 36000,\n",
       " 'id': 2172517,\n",
       " 'name': 'Canberra',\n",
       " 'cod': 200}"
      ]
     },
     "execution_count": 13,
     "metadata": {},
     "output_type": "execute_result"
    }
   ],
   "source": [
    "document = weather_info[0]\n",
    "mongo_manager.insert_document('weather', document, verbose=True)\n",
    "mongo_manager.find_document('weather', {'name': 'Canberra'}, verbose=True)"
   ]
  },
  {
   "cell_type": "code",
   "execution_count": 14,
   "metadata": {},
   "outputs": [
    {
     "name": "stdout",
     "output_type": "stream",
     "text": [
      "2024-05-11 12:25:19,139 INFO sqlalchemy.engine.Engine BEGIN (implicit)\n",
      "2024-05-11 12:25:19,142 INFO sqlalchemy.engine.Engine INSERT INTO \"OpenWeather\" (\"Date\", \"Location\", \"MinTemp\", \"MaxTemp\", \"Rainfall\", \"Sunrise\", \"Sunset\", \"WindGustDir\", \"WindGustSpeed\", \"Cloudiness\", \"Humidity\", \"Pressure\") VALUES (%(Date)s, %(Location)s, %(MinTemp)s, %(MaxTemp)s, %(Rainfall)s, %(Sunrise)s, %(Sunset)s, %(WindGustDir)s, %(WindGustSpeed)s, %(Cloudiness)s, %(Humidity)s, %(Pressure)s) RETURNING \"OpenWeather\".id\n",
      "2024-05-11 12:25:19,143 INFO sqlalchemy.engine.Engine [generated in 0.00093s] {'Date': '2024-05-11', 'Location': 'Canberra', 'MinTemp': 10.14, 'MaxTemp': 13.05, 'Rainfall': 0.65, 'Sunrise': '06:48:28', 'Sunset': '17:11:34', 'WindGustDir': 'SE', 'WindGustSpeed': 2.57, 'Cloudiness': 75, 'Humidity': 93, 'Pressure': 1026}\n",
      "2024-05-11 12:25:19,151 INFO sqlalchemy.engine.Engine COMMIT\n",
      "2024-05-11 12:25:19,153 INFO sqlalchemy.engine.Engine BEGIN (implicit)\n",
      "2024-05-11 12:25:19,155 INFO sqlalchemy.engine.Engine SELECT \"OpenWeather\".id AS \"OpenWeather_id\", \"OpenWeather\".\"Date\" AS \"OpenWeather_Date\", \"OpenWeather\".\"Location\" AS \"OpenWeather_Location\", \"OpenWeather\".\"MinTemp\" AS \"OpenWeather_MinTemp\", \"OpenWeather\".\"MaxTemp\" AS \"OpenWeather_MaxTemp\", \"OpenWeather\".\"Rainfall\" AS \"OpenWeather_Rainfall\", \"OpenWeather\".\"Sunrise\" AS \"OpenWeather_Sunrise\", \"OpenWeather\".\"Sunset\" AS \"OpenWeather_Sunset\", \"OpenWeather\".\"WindGustDir\" AS \"OpenWeather_WindGustDir\", \"OpenWeather\".\"WindGustSpeed\" AS \"OpenWeather_WindGustSpeed\", \"OpenWeather\".\"Cloudiness\" AS \"OpenWeather_Cloudiness\", \"OpenWeather\".\"Humidity\" AS \"OpenWeather_Humidity\", \"OpenWeather\".\"Pressure\" AS \"OpenWeather_Pressure\" \n",
      "FROM \"OpenWeather\" \n",
      "WHERE \"OpenWeather\".\"Location\" = %(Location_1)s \n",
      " LIMIT %(param_1)s\n",
      "2024-05-11 12:25:19,155 INFO sqlalchemy.engine.Engine [generated in 0.00043s] {'Location_1': 'Canberra', 'param_1': 1}\n",
      "2024-05-11 12:25:19,157 INFO sqlalchemy.engine.Engine ROLLBACK\n",
      "OpenWeather(id=1,                              Date=2024-05-11,                              Location='Canberra',                              MinTemp=10.14,                              MaxTemp=13.05,                              Rainfall=0.65,                              Sunrise='06:48:28',                              Sunset='17:11:34',                              WindGustDir='SE',                              WindGustSpeed=2.57,                              Cloudiness=75,                              Humidity=93,                              Pressure=1026.0)\n"
     ]
    }
   ],
   "source": [
    "weather_info = mongo_manager.find_document('weather', {'name': 'Canberra'}, verbose=False)\n",
    "\n",
    "structured_data = {\n",
    "    'Date': build_date_timestamp(weather_info['dt'], weather_info['timezone'], 'date'),\n",
    "    'Location': weather_info['name'],\n",
    "    'MinTemp': weather_info['main']['temp_min'],\n",
    "    'MaxTemp': weather_info['main']['temp_max'],\n",
    "    'Rainfall': get_rain_info(weather_info),\n",
    "    'Sunrise': build_date_timestamp(weather_info['sys']['sunrise'], weather_info['timezone'], 'hours'),\n",
    "    'Sunset': build_date_timestamp(weather_info['sys']['sunset'], weather_info['timezone'], 'hours'),\n",
    "    'WindGustDir': deg_to_cardinal(weather_info['wind']['deg']),\n",
    "    'WindGustSpeed': weather_info['wind']['speed'],\n",
    "    'Cloudiness': weather_info['clouds']['all'],\n",
    "    'Humidity': weather_info['main']['humidity'],\n",
    "    'Pressure': weather_info['main']['pressure']\n",
    "}\n",
    "weather = OpenWeather(**structured_data)\n",
    "postgre_manager.add_record(weather)\n",
    "data = postgre_manager.get_record(OpenWeather, Location='Canberra')\n",
    "print(data)"
   ]
  }
 ],
 "metadata": {
  "kernelspec": {
   "display_name": "venv",
   "language": "python",
   "name": "python3"
  },
  "language_info": {
   "codemirror_mode": {
    "name": "ipython",
    "version": 3
   },
   "file_extension": ".py",
   "mimetype": "text/x-python",
   "name": "python",
   "nbconvert_exporter": "python",
   "pygments_lexer": "ipython3",
   "version": "3.11.6"
  }
 },
 "nbformat": 4,
 "nbformat_minor": 2
}
