{
 "cells": [
  {
   "cell_type": "code",
   "execution_count": 3,
   "metadata": {},
   "outputs": [],
   "source": [
    "import pandas as pd\n",
    "from openweather_api import *"
   ]
  },
  {
   "cell_type": "code",
   "execution_count": 4,
   "metadata": {},
   "outputs": [],
   "source": [
    "config = load_config()\n",
    "API_key = config['open_wheather_api']['key']\n",
    "locations = ['Canberra', 'Tuggeranong']\n",
    "country_code = 'AU'\n",
    "limit = 5\n",
    "data = []\n",
    "\n",
    "for city_name in locations:\n",
    "    city_info = fetch_api_data(build_city_info_url(city_name, limit, API_key))\n",
    "    #store_to_json(city_info, 'CityInfo.json')\n",
    "\n",
    "    latitudes, longitudes = extract_lat_lon(city_info, country_code)\n",
    "    weather_info = fetch_weather_info_for_coordinates('weather', latitudes, longitudes, API_key)\n",
    "    #store_to_json(weather_info, 'WeatherInfo.json')\n",
    "\n",
    "    for i in range(len(weather_info)):\n",
    "        data.append({\n",
    "            'Date': build_date_timestamp(weather_info[i]['dt'], weather_info[i]['timezone'], 'date'),\n",
    "            'Location': weather_info[i]['name'],\n",
    "            'MinTemp': weather_info[i]['main']['temp_min'],\n",
    "            'MaxTemp': weather_info[i]['main']['temp_max'],\n",
    "            'Rainfall': get_rain_info(weather_info[i]),\n",
    "            'Sunrise': build_date_timestamp(weather_info[i]['sys']['sunrise'], weather_info[i]['timezone'], 'hours'),\n",
    "            'Sunset': build_date_timestamp(weather_info[i]['sys']['sunset'], weather_info[i]['timezone'], 'hours'),\n",
    "            'WindGustDir': deg_to_cardinal(weather_info[i]['wind']['deg']),\n",
    "            'WindGustSpeed': weather_info[i]['wind']['speed'],\n",
    "            'Cloudiness': weather_info[i]['clouds']['all'],\n",
    "            'Humidity': weather_info[i]['main']['humidity'],\n",
    "            'Pressure': weather_info[i]['main']['pressure']\n",
    "        })\n",
    "\n",
    "weather_df = pd.DataFrame(data)\n",
    "weather_df.to_csv('WeatherOpenWeatherAUS.csv')"
   ]
  }
 ],
 "metadata": {
  "kernelspec": {
   "display_name": "venv",
   "language": "python",
   "name": "python3"
  },
  "language_info": {
   "codemirror_mode": {
    "name": "ipython",
    "version": 3
   },
   "file_extension": ".py",
   "mimetype": "text/x-python",
   "name": "python",
   "nbconvert_exporter": "python",
   "pygments_lexer": "ipython3",
   "version": "3.11.6"
  }
 },
 "nbformat": 4,
 "nbformat_minor": 2
}
